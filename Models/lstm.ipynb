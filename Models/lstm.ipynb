{
 "cells": [
  {
   "cell_type": "code",
   "execution_count": 49,
   "metadata": {},
   "outputs": [],
   "source": [
    "import numpy as np\n",
    "import pandas as pd\n",
    "import matplotlib.pyplot as plt\n",
    "from sklearn.preprocessing import StandardScaler\n",
    "from tensorflow.keras.models import Model\n",
    "from tensorflow.keras.layers import Input, LSTM, Dense, Dropout\n",
    "from tensorflow.keras.optimizers import Adam"
   ]
  },
  {
   "cell_type": "markdown",
   "metadata": {},
   "source": [
    "# 1. Preprocessing"
   ]
  },
  {
   "cell_type": "markdown",
   "metadata": {},
   "source": [
    "### Data Gathering"
   ]
  },
  {
   "cell_type": "code",
   "execution_count": 50,
   "metadata": {},
   "outputs": [],
   "source": [
    "indexes = []\n",
    "all_indexes = {}"
   ]
  },
  {
   "cell_type": "code",
   "execution_count": 51,
   "metadata": {},
   "outputs": [],
   "source": [
    "index_excel_file = '../Data/Index_Data.xlsx'\n",
    "all_indexes = pd.read_excel(index_excel_file, sheet_name=None)\n",
    "\n",
    "for sheet_name, df in all_indexes.items():\n",
    "    indexes.append(sheet_name)\n",
    "    all_indexes[sheet_name] = df"
   ]
  },
  {
   "cell_type": "code",
   "execution_count": 52,
   "metadata": {},
   "outputs": [
    {
     "data": {
      "application/vnd.microsoft.datawrangler.viewer.v0+json": {
       "columns": [
        {
         "name": "index",
         "rawType": "int64",
         "type": "integer"
        },
        {
         "name": "Date",
         "rawType": "object",
         "type": "string"
        },
        {
         "name": "Open",
         "rawType": "float64",
         "type": "float"
        },
        {
         "name": "High",
         "rawType": "float64",
         "type": "float"
        },
        {
         "name": "Low",
         "rawType": "float64",
         "type": "float"
        },
        {
         "name": "Close",
         "rawType": "float64",
         "type": "float"
        },
        {
         "name": "Volume",
         "rawType": "int64",
         "type": "integer"
        },
        {
         "name": "Dividends",
         "rawType": "int64",
         "type": "integer"
        },
        {
         "name": "Stock_Splits",
         "rawType": "int64",
         "type": "integer"
        },
        {
         "name": "Percent_Change_In_Price",
         "rawType": "float64",
         "type": "float"
        },
        {
         "name": "Momentum_Indicator",
         "rawType": "float64",
         "type": "float"
        },
        {
         "name": "High_Low_Change",
         "rawType": "float64",
         "type": "float"
        },
        {
         "name": "High_Open_Change",
         "rawType": "float64",
         "type": "float"
        },
        {
         "name": "Low_Open_Change",
         "rawType": "float64",
         "type": "float"
        },
        {
         "name": "Day",
         "rawType": "int64",
         "type": "integer"
        },
        {
         "name": "Month",
         "rawType": "int64",
         "type": "integer"
        },
        {
         "name": "Year",
         "rawType": "int64",
         "type": "integer"
        }
       ],
       "conversionMethod": "pd.DataFrame",
       "ref": "0a1068f1-1ddf-4dd2-b4de-78241b567b50",
       "rows": [
        [
         "6803",
         "2025-02-11 00:00:00+05:30",
         "77384.9765625",
         "77387.28125",
         "76030.59375",
         "76293.6015625",
         "9800",
         "0",
         "0",
         "-0.01316998638831601",
         "-0.01410318964325783",
         "0.01784396823811467",
         "2.978210503350891e-05",
         "-0.01750188308716657",
         "11",
         "2",
         "2025"
        ],
        [
         "6804",
         "2025-02-12 00:00:00+05:30",
         "76188.2421875",
         "76459.71875",
         "75388.390625",
         "76171.078125",
         "10400",
         "0",
         "0",
         "-0.001605946435752292",
         "-0.0002252849259569354",
         "0.01421078386364611",
         "0.003563234361437209",
         "-0.01049835958324852",
         "12",
         "2",
         "2025"
        ],
        [
         "6805",
         "2025-02-13 00:00:00+05:30",
         "76201.1015625",
         "76764.53125",
         "76013.4296875",
         "76138.96875",
         "6900",
         "0",
         "0",
         "-0.0004215428715254044",
         "-0.0008153794528683917",
         "0.00988116923006718",
         "0.007393983498229039",
         "-0.002462849895235069",
         "13",
         "2",
         "2025"
        ],
        [
         "6806",
         "2025-02-14 00:00:00+05:30",
         "76388.9921875",
         "76483.0625",
         "75439.640625",
         "75939.2109375",
         "9300",
         "0",
         "0",
         "-0.002623594931471906",
         "-0.005888037492312937",
         "0.01383121481432693",
         "0.001231464243815398",
         "-0.0124278581941463",
         "14",
         "2",
         "2025"
        ],
        [
         "6807",
         "2025-02-17 00:00:00+05:30",
         "75641.40625",
         "76041.9609375",
         "75294.7578125",
         "75996.859375",
         "0",
         "0",
         "0",
         "0.0007591392745369685",
         "0.004699187159810372",
         "0.00992370713059062",
         "0.005295442104502122",
         "-0.004582786792121544",
         "17",
         "2",
         "2025"
        ]
       ],
       "shape": {
        "columns": 16,
        "rows": 5
       }
      },
      "text/html": [
       "<div>\n",
       "<style scoped>\n",
       "    .dataframe tbody tr th:only-of-type {\n",
       "        vertical-align: middle;\n",
       "    }\n",
       "\n",
       "    .dataframe tbody tr th {\n",
       "        vertical-align: top;\n",
       "    }\n",
       "\n",
       "    .dataframe thead th {\n",
       "        text-align: right;\n",
       "    }\n",
       "</style>\n",
       "<table border=\"1\" class=\"dataframe\">\n",
       "  <thead>\n",
       "    <tr style=\"text-align: right;\">\n",
       "      <th></th>\n",
       "      <th>Date</th>\n",
       "      <th>Open</th>\n",
       "      <th>High</th>\n",
       "      <th>Low</th>\n",
       "      <th>Close</th>\n",
       "      <th>Volume</th>\n",
       "      <th>Dividends</th>\n",
       "      <th>Stock_Splits</th>\n",
       "      <th>Percent_Change_In_Price</th>\n",
       "      <th>Momentum_Indicator</th>\n",
       "      <th>High_Low_Change</th>\n",
       "      <th>High_Open_Change</th>\n",
       "      <th>Low_Open_Change</th>\n",
       "      <th>Day</th>\n",
       "      <th>Month</th>\n",
       "      <th>Year</th>\n",
       "    </tr>\n",
       "  </thead>\n",
       "  <tbody>\n",
       "    <tr>\n",
       "      <th>6803</th>\n",
       "      <td>2025-02-11 00:00:00+05:30</td>\n",
       "      <td>77384.976562</td>\n",
       "      <td>77387.281250</td>\n",
       "      <td>76030.593750</td>\n",
       "      <td>76293.601562</td>\n",
       "      <td>9800</td>\n",
       "      <td>0</td>\n",
       "      <td>0</td>\n",
       "      <td>-0.013170</td>\n",
       "      <td>-0.014103</td>\n",
       "      <td>0.017844</td>\n",
       "      <td>0.000030</td>\n",
       "      <td>-0.017502</td>\n",
       "      <td>11</td>\n",
       "      <td>2</td>\n",
       "      <td>2025</td>\n",
       "    </tr>\n",
       "    <tr>\n",
       "      <th>6804</th>\n",
       "      <td>2025-02-12 00:00:00+05:30</td>\n",
       "      <td>76188.242188</td>\n",
       "      <td>76459.718750</td>\n",
       "      <td>75388.390625</td>\n",
       "      <td>76171.078125</td>\n",
       "      <td>10400</td>\n",
       "      <td>0</td>\n",
       "      <td>0</td>\n",
       "      <td>-0.001606</td>\n",
       "      <td>-0.000225</td>\n",
       "      <td>0.014211</td>\n",
       "      <td>0.003563</td>\n",
       "      <td>-0.010498</td>\n",
       "      <td>12</td>\n",
       "      <td>2</td>\n",
       "      <td>2025</td>\n",
       "    </tr>\n",
       "    <tr>\n",
       "      <th>6805</th>\n",
       "      <td>2025-02-13 00:00:00+05:30</td>\n",
       "      <td>76201.101562</td>\n",
       "      <td>76764.531250</td>\n",
       "      <td>76013.429688</td>\n",
       "      <td>76138.968750</td>\n",
       "      <td>6900</td>\n",
       "      <td>0</td>\n",
       "      <td>0</td>\n",
       "      <td>-0.000422</td>\n",
       "      <td>-0.000815</td>\n",
       "      <td>0.009881</td>\n",
       "      <td>0.007394</td>\n",
       "      <td>-0.002463</td>\n",
       "      <td>13</td>\n",
       "      <td>2</td>\n",
       "      <td>2025</td>\n",
       "    </tr>\n",
       "    <tr>\n",
       "      <th>6806</th>\n",
       "      <td>2025-02-14 00:00:00+05:30</td>\n",
       "      <td>76388.992188</td>\n",
       "      <td>76483.062500</td>\n",
       "      <td>75439.640625</td>\n",
       "      <td>75939.210938</td>\n",
       "      <td>9300</td>\n",
       "      <td>0</td>\n",
       "      <td>0</td>\n",
       "      <td>-0.002624</td>\n",
       "      <td>-0.005888</td>\n",
       "      <td>0.013831</td>\n",
       "      <td>0.001231</td>\n",
       "      <td>-0.012428</td>\n",
       "      <td>14</td>\n",
       "      <td>2</td>\n",
       "      <td>2025</td>\n",
       "    </tr>\n",
       "    <tr>\n",
       "      <th>6807</th>\n",
       "      <td>2025-02-17 00:00:00+05:30</td>\n",
       "      <td>75641.406250</td>\n",
       "      <td>76041.960938</td>\n",
       "      <td>75294.757812</td>\n",
       "      <td>75996.859375</td>\n",
       "      <td>0</td>\n",
       "      <td>0</td>\n",
       "      <td>0</td>\n",
       "      <td>0.000759</td>\n",
       "      <td>0.004699</td>\n",
       "      <td>0.009924</td>\n",
       "      <td>0.005295</td>\n",
       "      <td>-0.004583</td>\n",
       "      <td>17</td>\n",
       "      <td>2</td>\n",
       "      <td>2025</td>\n",
       "    </tr>\n",
       "  </tbody>\n",
       "</table>\n",
       "</div>"
      ],
      "text/plain": [
       "                           Date          Open          High           Low  \\\n",
       "6803  2025-02-11 00:00:00+05:30  77384.976562  77387.281250  76030.593750   \n",
       "6804  2025-02-12 00:00:00+05:30  76188.242188  76459.718750  75388.390625   \n",
       "6805  2025-02-13 00:00:00+05:30  76201.101562  76764.531250  76013.429688   \n",
       "6806  2025-02-14 00:00:00+05:30  76388.992188  76483.062500  75439.640625   \n",
       "6807  2025-02-17 00:00:00+05:30  75641.406250  76041.960938  75294.757812   \n",
       "\n",
       "             Close  Volume  Dividends  Stock_Splits  Percent_Change_In_Price  \\\n",
       "6803  76293.601562    9800          0             0                -0.013170   \n",
       "6804  76171.078125   10400          0             0                -0.001606   \n",
       "6805  76138.968750    6900          0             0                -0.000422   \n",
       "6806  75939.210938    9300          0             0                -0.002624   \n",
       "6807  75996.859375       0          0             0                 0.000759   \n",
       "\n",
       "      Momentum_Indicator  High_Low_Change  High_Open_Change  Low_Open_Change  \\\n",
       "6803           -0.014103         0.017844          0.000030        -0.017502   \n",
       "6804           -0.000225         0.014211          0.003563        -0.010498   \n",
       "6805           -0.000815         0.009881          0.007394        -0.002463   \n",
       "6806           -0.005888         0.013831          0.001231        -0.012428   \n",
       "6807            0.004699         0.009924          0.005295        -0.004583   \n",
       "\n",
       "      Day  Month  Year  \n",
       "6803   11      2  2025  \n",
       "6804   12      2  2025  \n",
       "6805   13      2  2025  \n",
       "6806   14      2  2025  \n",
       "6807   17      2  2025  "
      ]
     },
     "execution_count": 52,
     "metadata": {},
     "output_type": "execute_result"
    }
   ],
   "source": [
    "BSESN = all_indexes['BSESN']\n",
    "BSESN.tail()"
   ]
  },
  {
   "cell_type": "code",
   "execution_count": 53,
   "metadata": {},
   "outputs": [
    {
     "data": {
      "text/plain": [
       "6808"
      ]
     },
     "execution_count": 53,
     "metadata": {},
     "output_type": "execute_result"
    }
   ],
   "source": [
    "len(BSESN)"
   ]
  },
  {
   "cell_type": "markdown",
   "metadata": {},
   "source": [
    "### Feature Engineering"
   ]
  },
  {
   "cell_type": "code",
   "execution_count": 54,
   "metadata": {},
   "outputs": [],
   "source": [
    "BSESN['Date'] = pd.to_datetime(BSESN['Date'])\n",
    "BSESN = BSESN.sort_values('Date').reset_index(drop=True)"
   ]
  },
  {
   "cell_type": "code",
   "execution_count": 55,
   "metadata": {},
   "outputs": [
    {
     "name": "stdout",
     "output_type": "stream",
     "text": [
      "<class 'pandas.core.frame.DataFrame'>\n",
      "RangeIndex: 6808 entries, 0 to 6807\n",
      "Data columns (total 16 columns):\n",
      " #   Column                   Non-Null Count  Dtype                    \n",
      "---  ------                   --------------  -----                    \n",
      " 0   Date                     6808 non-null   datetime64[ns, UTC+05:30]\n",
      " 1   Open                     6808 non-null   float64                  \n",
      " 2   High                     6808 non-null   float64                  \n",
      " 3   Low                      6808 non-null   float64                  \n",
      " 4   Close                    6808 non-null   float64                  \n",
      " 5   Volume                   6808 non-null   int64                    \n",
      " 6   Dividends                6808 non-null   int64                    \n",
      " 7   Stock_Splits             6808 non-null   int64                    \n",
      " 8   Percent_Change_In_Price  6807 non-null   float64                  \n",
      " 9   Momentum_Indicator       6808 non-null   float64                  \n",
      " 10  High_Low_Change          6808 non-null   float64                  \n",
      " 11  High_Open_Change         6808 non-null   float64                  \n",
      " 12  Low_Open_Change          6808 non-null   float64                  \n",
      " 13  Day                      6808 non-null   int64                    \n",
      " 14  Month                    6808 non-null   int64                    \n",
      " 15  Year                     6808 non-null   int64                    \n",
      "dtypes: datetime64[ns, UTC+05:30](1), float64(9), int64(6)\n",
      "memory usage: 851.1 KB\n"
     ]
    }
   ],
   "source": [
    "BSESN.info()"
   ]
  },
  {
   "cell_type": "code",
   "execution_count": 56,
   "metadata": {},
   "outputs": [],
   "source": [
    "# features = ['Open', 'Close', 'Momentum_Indicator', 'High_Low_Change', 'High_Open_Change', 'Low_Open_Change', 'Day', 'Month', 'Year']\n",
    "features = ['Momentum_Indicator', 'High_Low_Change', 'High_Open_Change', 'Low_Open_Change', 'Day', 'Month', 'Year']\n",
    "target = 'Close'"
   ]
  },
  {
   "cell_type": "code",
   "execution_count": 57,
   "metadata": {},
   "outputs": [],
   "source": [
    "X_data = BSESN[features].values\n",
    "y_data = BSESN['Close'].values.reshape(-1, 1)"
   ]
  },
  {
   "cell_type": "code",
   "execution_count": 58,
   "metadata": {},
   "outputs": [
    {
     "data": {
      "text/plain": [
       "0        4300.859863\n",
       "1        4333.899902\n",
       "2        4323.459961\n",
       "3        4323.819824\n",
       "4        4291.450195\n",
       "            ...     \n",
       "6803    76293.601562\n",
       "6804    76171.078125\n",
       "6805    76138.968750\n",
       "6806    75939.210938\n",
       "6807    75996.859375\n",
       "Name: Close, Length: 6808, dtype: float64"
      ]
     },
     "execution_count": 58,
     "metadata": {},
     "output_type": "execute_result"
    }
   ],
   "source": [
    "BSESN['Close']"
   ]
  },
  {
   "cell_type": "code",
   "execution_count": 59,
   "metadata": {},
   "outputs": [
    {
     "data": {
      "text/plain": [
       "array([ 4300.85986328,  4333.89990234,  4323.45996094, ...,\n",
       "       76138.96875   , 75939.2109375 , 75996.859375  ])"
      ]
     },
     "execution_count": 59,
     "metadata": {},
     "output_type": "execute_result"
    }
   ],
   "source": [
    "BSESN['Close'].values"
   ]
  },
  {
   "cell_type": "code",
   "execution_count": 60,
   "metadata": {},
   "outputs": [
    {
     "data": {
      "text/plain": [
       "array([[ 4300.85986328],\n",
       "       [ 4333.89990234],\n",
       "       [ 4323.45996094],\n",
       "       ...,\n",
       "       [76138.96875   ],\n",
       "       [75939.2109375 ],\n",
       "       [75996.859375  ]])"
      ]
     },
     "execution_count": 60,
     "metadata": {},
     "output_type": "execute_result"
    }
   ],
   "source": [
    "y_data"
   ]
  },
  {
   "cell_type": "markdown",
   "metadata": {},
   "source": [
    "### Data Normalization"
   ]
  },
  {
   "cell_type": "code",
   "execution_count": 61,
   "metadata": {},
   "outputs": [],
   "source": [
    "scaler_features = StandardScaler()\n",
    "scaler_target = StandardScaler()\n",
    "scaled_X_data = scaler_features.fit_transform(X_data)\n",
    "scaled_y_data = scaler_target.fit_transform(y_data)"
   ]
  },
  {
   "cell_type": "markdown",
   "metadata": {},
   "source": [
    "### Create Sequences"
   ]
  },
  {
   "cell_type": "code",
   "execution_count": 62,
   "metadata": {},
   "outputs": [],
   "source": [
    "# Create sequences for LSTM\n",
    "def create_sequences(features, target, seq_length=90):\n",
    "    X, y = [], []\n",
    "    for i in range(seq_length, len(features)):\n",
    "        X.append(features[i-seq_length:i, :])  # Use all features\n",
    "        y.append(target[i, 0])  # Predict `Close` price\n",
    "    return np.array(X), np.array(y)"
   ]
  },
  {
   "cell_type": "code",
   "execution_count": 63,
   "metadata": {},
   "outputs": [],
   "source": [
    "X, y = create_sequences(scaled_X_data, scaled_y_data)"
   ]
  },
  {
   "cell_type": "code",
   "execution_count": 64,
   "metadata": {},
   "outputs": [
    {
     "data": {
      "text/plain": [
       "6718"
      ]
     },
     "execution_count": 64,
     "metadata": {},
     "output_type": "execute_result"
    }
   ],
   "source": [
    "len(y)"
   ]
  },
  {
   "cell_type": "code",
   "execution_count": 65,
   "metadata": {},
   "outputs": [
    {
     "data": {
      "text/plain": [
       "array([2.58472466, 2.58756534])"
      ]
     },
     "execution_count": 65,
     "metadata": {},
     "output_type": "execute_result"
    }
   ],
   "source": [
    "y[-2:]"
   ]
  },
  {
   "cell_type": "code",
   "execution_count": 66,
   "metadata": {},
   "outputs": [
    {
     "data": {
      "text/plain": [
       "array([[[-0.39759004, -0.3488716 , -0.33346474,  0.13061905,\n",
       "         -0.77398638,  1.00066108,  1.65317292],\n",
       "        [-0.13914575, -0.89153864, -0.63214245,  0.52645334,\n",
       "         -0.65981366,  1.00066108,  1.65317292],\n",
       "        [-0.0187386 , -0.99233207, -0.59588026,  0.67454181,\n",
       "         -0.54564095,  1.00066108,  1.65317292],\n",
       "        [ 0.46302046, -0.82085697, -0.12905404,  0.84840573,\n",
       "         -0.20312279,  1.00066108,  1.65317292],\n",
       "        [-0.1971308 , -0.68051547, -0.58941397,  0.31291547,\n",
       "         -0.08895007,  1.00066108,  1.65317292],\n",
       "        [-0.06548041, -0.77424964, -0.45344666,  0.53234347,\n",
       "          0.02522265,  1.00066108,  1.65317292],\n",
       "        [-0.65593092, -0.45013847, -0.85832408, -0.17204422,\n",
       "          0.13939536,  1.00066108,  1.65317292],\n",
       "        [ 0.54528694, -0.33092916,  0.10770978,  0.46296819,\n",
       "          0.25356808,  1.00066108,  1.65317292],\n",
       "        [-0.52654148, -0.3607234 , -0.89429027, -0.30478511,\n",
       "          0.59608624,  1.00066108,  1.65317292],\n",
       "        [-0.84089434,  0.07230384, -0.35196594, -0.37271502,\n",
       "          0.71025895,  1.00066108,  1.65317292],\n",
       "        [ 0.23653663, -0.56865215,  0.24945484,  0.85549819,\n",
       "          0.82443167,  1.00066108,  1.65317292],\n",
       "        [ 0.04326513, -0.89938993, -0.64010082,  0.52928524,\n",
       "          0.93860439,  1.00066108,  1.65317292],\n",
       "        [-0.7036443 , -0.16926574, -0.79078702, -0.44382229,\n",
       "          1.05277711,  1.00066108,  1.65317292],\n",
       "        [ 0.4276076 , -0.16729197,  0.50801348,  0.59192575,\n",
       "          1.39529526,  1.00066108,  1.65317292],\n",
       "        [ 0.40647742, -0.26675913, -0.24342539,  0.10703658,\n",
       "          1.50946798,  1.00066108,  1.65317292],\n",
       "        [-0.21731004, -0.71979944, -0.58362006,  0.36364674,\n",
       "          1.6236407 ,  1.00066108,  1.65317292],\n",
       "        [-0.57649269, -0.55987779, -0.89429027, -0.07307061,\n",
       "          1.73781342,  1.00066108,  1.65317292],\n",
       "        [-0.22203819, -0.98325108, -0.89429027,  0.42307176,\n",
       "         -1.68736813,  1.29093764,  1.65317292],\n",
       "        [-0.85402564,  0.24615796, -0.89429027, -1.0043884 ,\n",
       "         -1.34484997,  1.29093764,  1.65317292],\n",
       "        [ 1.02397043, -0.03414861,  0.6800589 ,  0.57387279,\n",
       "         -1.23067726,  1.29093764,  1.65317292],\n",
       "        [ 0.68166723, -0.17913933,  0.36651383,  0.49266661,\n",
       "         -1.11650454,  1.29093764,  1.65317292],\n",
       "        [-0.93392173, -0.14231327, -0.89429027, -0.55768658,\n",
       "         -1.00233182,  1.29093764,  1.65317292],\n",
       "        [-0.04942672, -0.63104596, -0.58497488,  0.25852525,\n",
       "         -0.8881591 ,  1.29093764,  1.65317292],\n",
       "        [ 0.27480604, -0.18285413,  0.3832173 ,  0.51035622,\n",
       "         -0.54564095,  1.29093764,  1.65317292],\n",
       "        [-0.8937032 ,  0.01265566, -0.61570543, -0.5141685 ,\n",
       "         -0.43146823,  1.29093764,  1.65317292],\n",
       "        [-0.74026522, -0.09816859, -0.58196834, -0.35923171,\n",
       "         -0.31729551,  1.29093764,  1.65317292],\n",
       "        [ 0.01812466, -0.68036275, -0.21467757,  0.61400754,\n",
       "         -0.20312279,  1.29093764,  1.65317292],\n",
       "        [-0.46039317, -0.35095906, -0.85636073, -0.28574039,\n",
       "          0.25356808,  1.29093764,  1.65317292],\n",
       "        [ 0.1074327 , -0.22538904,  0.57454857,  0.71307152,\n",
       "          0.3677408 ,  1.29093764,  1.65317292],\n",
       "        [-0.49300597, -0.36391831, -0.89429027, -0.30107623,\n",
       "          0.59608624,  1.29093764,  1.65317292],\n",
       "        [ 1.89632134,  0.83607951,  2.15056581,  0.73061636,\n",
       "          0.71025895,  1.29093764,  1.65317292],\n",
       "        [-0.00683498, -0.61861074, -0.45479118,  0.34855367,\n",
       "          1.05277711,  1.29093764,  1.65317292],\n",
       "        [-0.33130525, -0.64412734, -0.78943968,  0.10953339,\n",
       "          1.16694983,  1.29093764,  1.65317292],\n",
       "        [ 0.18861629, -0.66288533, -0.28053702,  0.54052593,\n",
       "          1.28112255,  1.29093764,  1.65317292],\n",
       "        [-1.15205163,  0.28422432, -0.63403291, -0.84101591,\n",
       "          1.39529526,  1.29093764,  1.65317292],\n",
       "        [ 0.8521034 , -0.40412248,  0.52662712,  0.88434223,\n",
       "          1.50946798,  1.29093764,  1.65317292],\n",
       "        [ 0.57988844, -0.26546002,  0.0445682 ,  0.33595459,\n",
       "         -1.57319541,  1.5812142 ,  1.65317292],\n",
       "        [ 0.38934387, -0.6261197 , -0.23703193,  0.5323126 ,\n",
       "         -1.45902269,  1.5812142 ,  1.65317292],\n",
       "        [-0.00230804, -0.72510137, -0.56892637,  0.38168734,\n",
       "         -1.34484997,  1.5812142 ,  1.65317292],\n",
       "        [ 0.64838533,  0.59605213,  0.8679998 , -0.00711634,\n",
       "         -1.23067726,  1.5812142 ,  1.65317292],\n",
       "        [-0.0973396 , -0.93794328, -0.83523109,  0.41736662,\n",
       "         -1.11650454,  1.5812142 ,  1.65317292],\n",
       "        [-0.01565046, -0.98809294, -0.61515994,  0.65398186,\n",
       "         -0.77398638,  1.5812142 ,  1.65317292],\n",
       "        [ 0.01185943, -0.80495126, -0.66191963,  0.40061859,\n",
       "         -0.65981366,  1.5812142 ,  1.65317292],\n",
       "        [ 0.03496316, -1.00146528, -0.62543776,  0.66147491,\n",
       "         -0.54564095,  1.5812142 ,  1.65317292],\n",
       "        [-0.10640265, -0.88382892, -0.57836053,  0.56071538,\n",
       "         -0.43146823,  1.5812142 ,  1.65317292],\n",
       "        [ 0.9792601 ,  0.90686638,  0.66009983, -0.52791976,\n",
       "         -0.31729551,  1.5812142 ,  1.65317292],\n",
       "        [-0.16832642, -0.78489116, -0.71578318,  0.33369852,\n",
       "          0.02522265,  1.5812142 ,  1.65317292],\n",
       "        [-0.7323147 , -0.31273697, -0.73682222, -0.23439597,\n",
       "          0.13939536,  1.5812142 ,  1.65317292],\n",
       "        [-0.40177822, -0.50226492, -0.5790073 ,  0.1127414 ,\n",
       "          0.25356808,  1.5812142 ,  1.65317292],\n",
       "        [ 0.26674221, -0.84093595, -0.11730473,  0.8815745 ,\n",
       "          0.3677408 ,  1.5812142 ,  1.65317292],\n",
       "        [-1.22291182,  0.50973623, -0.49442609, -0.98810891,\n",
       "          0.48191352,  1.5812142 ,  1.65317292],\n",
       "        [ 0.12852207, -0.5792301 , -0.20456219,  0.50336612,\n",
       "          0.82443167,  1.5812142 ,  1.65317292],\n",
       "        [-0.16110752, -0.85476933, -0.62204595,  0.49130676,\n",
       "          0.93860439,  1.5812142 ,  1.65317292],\n",
       "        [-0.00976905, -0.58340629, -0.34699384,  0.39388468,\n",
       "          1.16694983,  1.5812142 ,  1.65317292],\n",
       "        [ 0.168898  , -0.8943555 , -0.19589717,  0.88136015,\n",
       "          1.28112255,  1.5812142 ,  1.65317292],\n",
       "        [-0.31827315, -0.26250574, -0.16475581,  0.16502786,\n",
       "          1.6236407 ,  1.5812142 ,  1.65317292],\n",
       "        [ 0.23602096, -0.55542077, -0.37256065,  0.34057516,\n",
       "          1.73781342,  1.5812142 ,  1.65317292],\n",
       "        [ 0.32287087, -0.43359716, -0.1028252 ,  0.41437502,\n",
       "         -1.68736813, -1.61182797,  1.7783598 ],\n",
       "        [ 1.37876276,  0.25064363,  1.30973332,  0.74357758,\n",
       "         -1.57319541, -1.61182797,  1.7783598 ],\n",
       "        [-0.76924978, -0.33393243, -0.89429027, -0.33587523,\n",
       "         -1.45902269, -1.61182797,  1.7783598 ],\n",
       "        [-1.24667527,  0.55454308, -0.49518556, -1.03983397,\n",
       "         -1.11650454, -1.61182797,  1.7783598 ],\n",
       "        [ 0.25929989, -0.79854527, -0.19481321,  0.76913775,\n",
       "         -1.00233182, -1.61182797,  1.7783598 ],\n",
       "        [-0.09765839, -0.45689053, -0.89429027, -0.19302807,\n",
       "         -0.8881591 , -1.61182797,  1.7783598 ],\n",
       "        [-0.52065137, -0.64531562, -0.89429027,  0.02666193,\n",
       "         -0.77398638, -1.61182797,  1.7783598 ],\n",
       "        [-0.23518481, -0.4661961 , -0.50954769,  0.12635224,\n",
       "         -0.65981366, -1.61182797,  1.7783598 ],\n",
       "        [-0.23551586, -0.39008276, -0.07437057,  0.38628519,\n",
       "         -0.31729551, -1.61182797,  1.7783598 ],\n",
       "        [ 0.24723763, -0.8177189 , -0.06888904,  0.89314863,\n",
       "         -0.20312279, -1.61182797,  1.7783598 ],\n",
       "        [-0.10615214, -0.80587066, -0.74528149,  0.33458247,\n",
       "         -0.08895007, -1.61182797,  1.7783598 ],\n",
       "        [-0.2088227 , -0.90662505, -0.89429027,  0.33291507,\n",
       "          0.02522265, -1.61182797,  1.7783598 ],\n",
       "        [-0.38874437, -0.47223976, -0.89429027, -0.17516764,\n",
       "          0.13939536, -1.61182797,  1.7783598 ],\n",
       "        [ 0.17443256, -0.55664668, -0.33688233,  0.37065342,\n",
       "          0.48191352, -1.61182797,  1.7783598 ],\n",
       "        [-1.39127301,  0.54614351, -0.77088435, -1.24881042,\n",
       "          0.59608624, -1.61182797,  1.7783598 ],\n",
       "        [ 0.38031969, -0.647457  , -0.31680107,  0.49326305,\n",
       "          0.71025895, -1.61182797,  1.7783598 ],\n",
       "        [ 0.1865754 , -0.76984807, -0.35155773,  0.60916606,\n",
       "          0.82443167, -1.61182797,  1.7783598 ],\n",
       "        [-0.19976165, -0.37043719, -0.01949609,  0.40728078,\n",
       "          0.93860439, -1.61182797,  1.7783598 ],\n",
       "        [-0.27550714, -0.62898599, -0.51915577,  0.30899743,\n",
       "          1.28112255, -1.61182797,  1.7783598 ],\n",
       "        [ 0.33144066, -0.36886294,  0.52844028,  0.84437853,\n",
       "          1.39529526, -1.61182797,  1.7783598 ],\n",
       "        [ 0.48918697, -0.67468024, -0.13027964,  0.67517466,\n",
       "          1.50946798, -1.61182797,  1.7783598 ],\n",
       "        [ 0.24361982, -0.74856797, -0.29522931,  0.62944945,\n",
       "          1.6236407 , -1.61182797,  1.7783598 ],\n",
       "        [ 0.70992864, -0.51680443,  0.28126593,  0.82003734,\n",
       "          1.73781342, -1.61182797,  1.7783598 ],\n",
       "        [ 0.20316108, -0.81585812, -0.57299733,  0.48503655,\n",
       "         -1.45902269, -1.32155141,  1.7783598 ],\n",
       "        [ 0.99515961,  0.01449922,  0.68117658,  0.5180457 ,\n",
       "         -1.34484997, -1.32155141,  1.7783598 ],\n",
       "        [-0.36234342, -0.81004466, -0.8449545 ,  0.2592311 ,\n",
       "         -1.23067726, -1.32155141,  1.7783598 ],\n",
       "        [-0.38561339, -0.59915882, -0.83280586,  0.02214259,\n",
       "         -1.11650454, -1.32155141,  1.7783598 ],\n",
       "        [-0.18829772, -0.40287072, -0.51127137,  0.05111136,\n",
       "         -1.00233182, -1.32155141,  1.7783598 ],\n",
       "        [-0.41274454, -0.55264486, -0.79660982, -0.00308958,\n",
       "         -0.65981366, -1.32155141,  1.7783598 ],\n",
       "        [-1.04720188,  0.15324853, -0.89053622, -0.89492372,\n",
       "         -0.54564095, -1.32155141,  1.7783598 ],\n",
       "        [ 0.05827775, -0.15905373, -0.4451421 , -0.17941175,\n",
       "         -0.43146823, -1.32155141,  1.7783598 ],\n",
       "        [ 0.01127228, -0.53121993,  0.0377265 ,  0.64153263,\n",
       "         -0.31729551, -1.32155141,  1.7783598 ],\n",
       "        [-0.39280314, -0.19168083, -0.73906335, -0.37653815,\n",
       "         -0.20312279, -1.32155141,  1.7783598 ]]])"
      ]
     },
     "execution_count": 66,
     "metadata": {},
     "output_type": "execute_result"
    }
   ],
   "source": [
    "X[-1:]"
   ]
  },
  {
   "cell_type": "markdown",
   "metadata": {},
   "source": [
    "### Data splitting"
   ]
  },
  {
   "cell_type": "code",
   "execution_count": 67,
   "metadata": {},
   "outputs": [
    {
     "name": "stdout",
     "output_type": "stream",
     "text": [
      "6718\n",
      "4702\n",
      "1344\n",
      "672\n",
      "672\n"
     ]
    }
   ],
   "source": [
    "training_size = int(len(X) * 0.7)\n",
    "validation_size = int(len(X) * 0.9)\n",
    "\n",
    "X_train, X_validate, X_test = X[:training_size], X[training_size:validation_size], X[validation_size:]\n",
    "y_train, y_validate, y_test = y[:training_size], y[training_size:validation_size], y[validation_size:]\n",
    "\n",
    "print(len(X))\n",
    "print(f\"{len(X_train)}\")\n",
    "print(f\"{len(X_validate)}\")\n",
    "print(f\"{len(X_test)}\")\n",
    "print(f\"{len(y_test)}\")"
   ]
  },
  {
   "cell_type": "code",
   "execution_count": 68,
   "metadata": {},
   "outputs": [
    {
     "name": "stdout",
     "output_type": "stream",
     "text": [
      "(6718, 90, 7)\n",
      "(4702, 90, 7)\n",
      "(1344, 90, 7)\n",
      "(672, 90, 7)\n",
      "(672,)\n"
     ]
    }
   ],
   "source": [
    "print(X.shape)\n",
    "print(f\"{X_train.shape}\")\n",
    "print(f\"{X_validate.shape}\")\n",
    "print(f\"{X_test.shape}\")\n",
    "print(f\"{y_test.shape}\")"
   ]
  },
  {
   "cell_type": "markdown",
   "metadata": {},
   "source": [
    "# 2. Model creation"
   ]
  },
  {
   "cell_type": "markdown",
   "metadata": {},
   "source": [
    "### Plot epoch vs loss & epoch vs mae"
   ]
  },
  {
   "cell_type": "code",
   "execution_count": 69,
   "metadata": {},
   "outputs": [],
   "source": [
    "def plot_loss_mae(history):\n",
    "    # Extract values from history\n",
    "    loss = history.history['loss']\n",
    "    val_loss = history.history['val_loss']\n",
    "    mae = history.history['mean_absolute_error']\n",
    "    val_mae = history.history['val_mean_absolute_error']\n",
    "\n",
    "    epochs = range(1, len(loss) + 1)\n",
    "\n",
    "    # Plot Loss\n",
    "    plt.figure(figsize=(12, 5))\n",
    "    plt.subplot(1, 2, 1)\n",
    "    plt.plot(epochs, loss, 'bo-', label='Training Loss')\n",
    "    plt.plot(epochs, val_loss, 'r^-', label='Validation Loss')\n",
    "    plt.xlabel('Epochs')\n",
    "    plt.ylabel('Loss')\n",
    "    plt.title('Training vs Validation Loss')\n",
    "    plt.legend()\n",
    "\n",
    "    # Plot MAE\n",
    "    plt.subplot(1, 2, 2)\n",
    "    plt.plot(epochs, mae, 'bo-', label='Training MAE')\n",
    "    plt.plot(epochs, val_mae, 'r^-', label='Validation MAE')\n",
    "    plt.xlabel('Epochs')\n",
    "    plt.ylabel('Mean Absolute Error')\n",
    "    plt.title('Training vs Validation MAE')\n",
    "    plt.legend()\n",
    "\n",
    "    plt.show()"
   ]
  },
  {
   "cell_type": "markdown",
   "metadata": {},
   "source": [
    "### LSTM model"
   ]
  },
  {
   "cell_type": "code",
   "execution_count": 71,
   "metadata": {},
   "outputs": [
    {
     "name": "stderr",
     "output_type": "stream",
     "text": [
      "WARNING:absl:At this time, the v2.11+ optimizer `tf.keras.optimizers.Adam` runs slowly on M1/M2 Macs, please use the legacy Keras optimizer instead, located at `tf.keras.optimizers.legacy.Adam`.\n",
      "WARNING:absl:There is a known slowdown when using v2.11+ Keras optimizers on M1/M2 Macs. Falling back to the legacy Keras optimizer, i.e., `tf.keras.optimizers.legacy.Adam`.\n"
     ]
    },
    {
     "name": "stdout",
     "output_type": "stream",
     "text": [
      "Epoch 1/13\n"
     ]
    },
    {
     "name": "stderr",
     "output_type": "stream",
     "text": [
      "2025-02-25 15:30:36.508335: I tensorflow/core/grappler/optimizers/custom_graph_optimizer_registry.cc:114] Plugin optimizer for device_type GPU is enabled.\n",
      "2025-02-25 15:30:36.639207: I tensorflow/core/grappler/optimizers/custom_graph_optimizer_registry.cc:114] Plugin optimizer for device_type GPU is enabled.\n"
     ]
    },
    {
     "name": "stdout",
     "output_type": "stream",
     "text": [
      "  3/147 [..............................] - ETA: 5s - loss: 0.4811 - mean_absolute_error: 0.5954  "
     ]
    },
    {
     "name": "stderr",
     "output_type": "stream",
     "text": [
      "2025-02-25 15:30:36.896381: I tensorflow/core/grappler/optimizers/custom_graph_optimizer_registry.cc:114] Plugin optimizer for device_type GPU is enabled.\n"
     ]
    },
    {
     "name": "stdout",
     "output_type": "stream",
     "text": [
      "147/147 [==============================] - ETA: 0s - loss: 0.1904 - mean_absolute_error: 0.3765"
     ]
    },
    {
     "name": "stderr",
     "output_type": "stream",
     "text": [
      "2025-02-25 15:30:39.739203: I tensorflow/core/grappler/optimizers/custom_graph_optimizer_registry.cc:114] Plugin optimizer for device_type GPU is enabled.\n",
      "2025-02-25 15:30:39.780923: I tensorflow/core/grappler/optimizers/custom_graph_optimizer_registry.cc:114] Plugin optimizer for device_type GPU is enabled.\n"
     ]
    },
    {
     "name": "stdout",
     "output_type": "stream",
     "text": [
      "147/147 [==============================] - 4s 21ms/step - loss: 0.1904 - mean_absolute_error: 0.3765 - val_loss: 1.9070 - val_mean_absolute_error: 1.3048\n",
      "Epoch 2/13\n",
      "147/147 [==============================] - 3s 18ms/step - loss: 0.1686 - mean_absolute_error: 0.3625 - val_loss: 1.9336 - val_mean_absolute_error: 1.3147\n",
      "Epoch 3/13\n",
      "147/147 [==============================] - 3s 18ms/step - loss: 0.1665 - mean_absolute_error: 0.3619 - val_loss: 1.8904 - val_mean_absolute_error: 1.2993\n",
      "Epoch 4/13\n",
      "147/147 [==============================] - 3s 18ms/step - loss: 0.1653 - mean_absolute_error: 0.3609 - val_loss: 2.0729 - val_mean_absolute_error: 1.3656\n",
      "Epoch 5/13\n",
      "147/147 [==============================] - 3s 18ms/step - loss: 0.1648 - mean_absolute_error: 0.3606 - val_loss: 1.8781 - val_mean_absolute_error: 1.2917\n",
      "Epoch 6/13\n",
      "147/147 [==============================] - 3s 18ms/step - loss: 0.1644 - mean_absolute_error: 0.3608 - val_loss: 2.0391 - val_mean_absolute_error: 1.3518\n",
      "Epoch 7/13\n",
      "147/147 [==============================] - 3s 18ms/step - loss: 0.1645 - mean_absolute_error: 0.3607 - val_loss: 2.0109 - val_mean_absolute_error: 1.3422\n",
      "Epoch 8/13\n",
      "147/147 [==============================] - 3s 18ms/step - loss: 0.1643 - mean_absolute_error: 0.3606 - val_loss: 1.9567 - val_mean_absolute_error: 1.3211\n",
      "Epoch 9/13\n",
      "147/147 [==============================] - 3s 18ms/step - loss: 0.1642 - mean_absolute_error: 0.3610 - val_loss: 1.9591 - val_mean_absolute_error: 1.3238\n",
      "Epoch 10/13\n",
      "147/147 [==============================] - 3s 18ms/step - loss: 0.1640 - mean_absolute_error: 0.3604 - val_loss: 2.0683 - val_mean_absolute_error: 1.3631\n",
      "Epoch 11/13\n",
      "147/147 [==============================] - 3s 18ms/step - loss: 0.1640 - mean_absolute_error: 0.3604 - val_loss: 2.0849 - val_mean_absolute_error: 1.3683\n",
      "Epoch 12/13\n",
      "147/147 [==============================] - 3s 18ms/step - loss: 0.1638 - mean_absolute_error: 0.3603 - val_loss: 2.0859 - val_mean_absolute_error: 1.3692\n",
      "Epoch 13/13\n",
      "147/147 [==============================] - 3s 18ms/step - loss: 0.1641 - mean_absolute_error: 0.3608 - val_loss: 2.0399 - val_mean_absolute_error: 1.3521\n"
     ]
    },
    {
     "data": {
      "image/png": "[encoded data removed]",
      "text/plain": [
       "<Figure size 1200x500 with 2 Axes>"
      ]
     },
     "metadata": {},
     "output_type": "display_data"
    }
   ],
   "source": [
    "# # LSTM Model\n",
    "\n",
    "inputs = Input(shape=(X_train.shape[1], X_train.shape[2]))\n",
    "\n",
    "x = LSTM(64, return_sequences=True)(inputs)\n",
    "x = Dropout(0.2)(x)\n",
    "# x = LSTM(32, return_sequences=False)(x)\n",
    "# x = Dropout(0.1)(x)\n",
    "x = Dense(16, activation='tanh')(x)\n",
    "# x = Dropout(0.2)(x)\n",
    "\n",
    "output = Dense(1)(x)\n",
    "\n",
    "\n",
    "model = Model(inputs, output)\n",
    "\n",
    "model.compile(optimizer=Adam(), loss='mean_squared_error', metrics=['mean_absolute_error'])\n",
    "\n",
    "history = model.fit(X_train, y_train, epochs=13, batch_size=32, validation_data=(X_validate, y_validate))\n",
    "\n",
    "plot_loss_mae(history)"
   ]
  },
  {
   "cell_type": "code",
   "execution_count": null,
   "metadata": {},
   "outputs": [],
   "source": []
  }
 ],
 "metadata": {
  "kernelspec": {
   "display_name": "Python 3",
   "language": "python",
   "name": "python3"
  },
  "language_info": {
   "codemirror_mode": {
    "name": "ipython",
    "version": 3
   },
   "file_extension": ".py",
   "mimetype": "text/x-python",
   "name": "python",
   "nbconvert_exporter": "python",
   "pygments_lexer": "ipython3",
   "version": "3.8.16"
  }
 },
 "nbformat": 4,
 "nbformat_minor": 2
}
