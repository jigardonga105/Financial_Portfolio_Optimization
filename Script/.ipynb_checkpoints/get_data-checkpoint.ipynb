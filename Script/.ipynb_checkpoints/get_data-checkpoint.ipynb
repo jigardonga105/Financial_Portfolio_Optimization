{
 "cells": [
  {
   "cell_type": "code",
   "execution_count": 1,
   "metadata": {},
   "outputs": [
    {
     "name": "stdout",
     "output_type": "stream",
     "text": [
      "Collecting nsepy\n",
      "  Downloading nsepy-0.8.tar.gz (33 kB)\n",
      "  Preparing metadata (setup.py) ... \u001b[?25ldone\n",
      "\u001b[?25hRequirement already satisfied: beautifulsoup4 in /Users/jigardonga/anaconda3/lib/python3.11/site-packages (from nsepy) (4.12.2)\n",
      "Requirement already satisfied: requests in /Users/jigardonga/anaconda3/lib/python3.11/site-packages (from nsepy) (2.31.0)\n",
      "Requirement already satisfied: numpy in /Users/jigardonga/anaconda3/lib/python3.11/site-packages (from nsepy) (1.24.3)\n",
      "Requirement already satisfied: pandas in /Users/jigardonga/anaconda3/lib/python3.11/site-packages (from nsepy) (1.5.3)\n",
      "Requirement already satisfied: six in /Users/jigardonga/anaconda3/lib/python3.11/site-packages (from nsepy) (1.16.0)\n",
      "Requirement already satisfied: click in /Users/jigardonga/anaconda3/lib/python3.11/site-packages (from nsepy) (8.1.7)\n",
      "Requirement already satisfied: lxml in /Users/jigardonga/anaconda3/lib/python3.11/site-packages (from nsepy) (4.9.2)\n",
      "Requirement already satisfied: soupsieve>1.2 in /Users/jigardonga/anaconda3/lib/python3.11/site-packages (from beautifulsoup4->nsepy) (2.4)\n",
      "Requirement already satisfied: python-dateutil>=2.8.1 in /Users/jigardonga/anaconda3/lib/python3.11/site-packages (from pandas->nsepy) (2.8.2)\n",
      "Requirement already satisfied: pytz>=2020.1 in /Users/jigardonga/anaconda3/lib/python3.11/site-packages (from pandas->nsepy) (2022.7)\n",
      "Requirement already satisfied: charset-normalizer<4,>=2 in /Users/jigardonga/anaconda3/lib/python3.11/site-packages (from requests->nsepy) (2.0.4)\n",
      "Requirement already satisfied: idna<4,>=2.5 in /Users/jigardonga/anaconda3/lib/python3.11/site-packages (from requests->nsepy) (3.4)\n",
      "Requirement already satisfied: urllib3<3,>=1.21.1 in /Users/jigardonga/anaconda3/lib/python3.11/site-packages (from requests->nsepy) (1.26.16)\n",
      "Requirement already satisfied: certifi>=2017.4.17 in /Users/jigardonga/anaconda3/lib/python3.11/site-packages (from requests->nsepy) (2023.7.22)\n",
      "Building wheels for collected packages: nsepy\n",
      "  Building wheel for nsepy (setup.py) ... \u001b[?25ldone\n",
      "\u001b[?25h  Created wheel for nsepy: filename=nsepy-0.8-py3-none-any.whl size=36057 sha256=a04f1b774adcd69782d37cdc1eac03cf77129886c0bec79775317a7aeeb4be84\n",
      "  Stored in directory: /Users/jigardonga/Library/Caches/pip/wheels/94/a7/d4/0e4e94292f5761407472684b2cd74771e9985af72f968101e0\n",
      "Successfully built nsepy\n",
      "Installing collected packages: nsepy\n",
      "Successfully installed nsepy-0.8\n",
      "Note: you may need to restart the kernel to use updated packages.\n"
     ]
    }
   ],
   "source": [
    "# pip install nsepy"
   ]
  },
  {
   "cell_type": "code",
   "execution_count": 1,
   "metadata": {},
   "outputs": [],
   "source": [
    "from nsepy import get_history\n",
    "from datetime import date"
   ]
  },
  {
   "cell_type": "code",
   "execution_count": 5,
   "metadata": {},
   "outputs": [
    {
     "data": {
      "text/html": [
       "<div>\n",
       "<style scoped>\n",
       "    .dataframe tbody tr th:only-of-type {\n",
       "        vertical-align: middle;\n",
       "    }\n",
       "\n",
       "    .dataframe tbody tr th {\n",
       "        vertical-align: top;\n",
       "    }\n",
       "\n",
       "    .dataframe thead th {\n",
       "        text-align: right;\n",
       "    }\n",
       "</style>\n",
       "<table border=\"1\" class=\"dataframe\">\n",
       "  <thead>\n",
       "    <tr style=\"text-align: right;\">\n",
       "      <th></th>\n",
       "      <th>Symbol</th>\n",
       "      <th>Series</th>\n",
       "      <th>Prev Close</th>\n",
       "      <th>Open</th>\n",
       "      <th>High</th>\n",
       "      <th>Low</th>\n",
       "      <th>Last</th>\n",
       "      <th>Close</th>\n",
       "      <th>VWAP</th>\n",
       "      <th>Volume</th>\n",
       "      <th>Turnover</th>\n",
       "      <th>Trades</th>\n",
       "      <th>Deliverable Volume</th>\n",
       "      <th>%Deliverble</th>\n",
       "    </tr>\n",
       "    <tr>\n",
       "      <th>Date</th>\n",
       "      <th></th>\n",
       "      <th></th>\n",
       "      <th></th>\n",
       "      <th></th>\n",
       "      <th></th>\n",
       "      <th></th>\n",
       "      <th></th>\n",
       "      <th></th>\n",
       "      <th></th>\n",
       "      <th></th>\n",
       "      <th></th>\n",
       "      <th></th>\n",
       "      <th></th>\n",
       "      <th></th>\n",
       "    </tr>\n",
       "  </thead>\n",
       "  <tbody>\n",
       "  </tbody>\n",
       "</table>\n",
       "</div>"
      ],
      "text/plain": [
       "Empty DataFrame\n",
       "Columns: [Symbol, Series, Prev Close, Open, High, Low, Last, Close, VWAP, Volume, Turnover, Trades, Deliverable Volume, %Deliverble]\n",
       "Index: []"
      ]
     },
     "execution_count": 5,
     "metadata": {},
     "output_type": "execute_result"
    }
   ],
   "source": [
    "from datetime import date\n",
    "from nsepy import get_history\n",
    "sbin = get_history(symbol='SBIN',\n",
    "                   start=date(2022,1,1),\n",
    "                   end=date(2022,12,31))\n",
    "data.head()"
   ]
  },
  {
   "cell_type": "code",
   "execution_count": 3,
   "metadata": {},
   "outputs": [
    {
     "data": {
      "text/html": [
       "<div>\n",
       "<style scoped>\n",
       "    .dataframe tbody tr th:only-of-type {\n",
       "        vertical-align: middle;\n",
       "    }\n",
       "\n",
       "    .dataframe tbody tr th {\n",
       "        vertical-align: top;\n",
       "    }\n",
       "\n",
       "    .dataframe thead th {\n",
       "        text-align: right;\n",
       "    }\n",
       "</style>\n",
       "<table border=\"1\" class=\"dataframe\">\n",
       "  <thead>\n",
       "    <tr style=\"text-align: right;\">\n",
       "      <th></th>\n",
       "      <th>Symbol</th>\n",
       "      <th>Series</th>\n",
       "      <th>Prev Close</th>\n",
       "      <th>Open</th>\n",
       "      <th>High</th>\n",
       "      <th>Low</th>\n",
       "      <th>Last</th>\n",
       "      <th>Close</th>\n",
       "      <th>VWAP</th>\n",
       "      <th>Volume</th>\n",
       "      <th>Turnover</th>\n",
       "      <th>Trades</th>\n",
       "      <th>Deliverable Volume</th>\n",
       "      <th>%Deliverble</th>\n",
       "    </tr>\n",
       "    <tr>\n",
       "      <th>Date</th>\n",
       "      <th></th>\n",
       "      <th></th>\n",
       "      <th></th>\n",
       "      <th></th>\n",
       "      <th></th>\n",
       "      <th></th>\n",
       "      <th></th>\n",
       "      <th></th>\n",
       "      <th></th>\n",
       "      <th></th>\n",
       "      <th></th>\n",
       "      <th></th>\n",
       "      <th></th>\n",
       "      <th></th>\n",
       "    </tr>\n",
       "  </thead>\n",
       "  <tbody>\n",
       "  </tbody>\n",
       "</table>\n",
       "</div>"
      ],
      "text/plain": [
       "Empty DataFrame\n",
       "Columns: [Symbol, Series, Prev Close, Open, High, Low, Last, Close, VWAP, Volume, Turnover, Trades, Deliverable Volume, %Deliverble]\n",
       "Index: []"
      ]
     },
     "execution_count": 3,
     "metadata": {},
     "output_type": "execute_result"
    }
   ],
   "source": [
    "data.head()"
   ]
  },
  {
   "cell_type": "code",
   "execution_count": null,
   "metadata": {},
   "outputs": [],
   "source": []
  }
 ],
 "metadata": {
  "kernelspec": {
   "display_name": "Python 3 (ipykernel)",
   "language": "python",
   "name": "python3"
  },
  "language_info": {
   "codemirror_mode": {
    "name": "ipython",
    "version": 3
   },
   "file_extension": ".py",
   "mimetype": "text/x-python",
   "name": "python",
   "nbconvert_exporter": "python",
   "pygments_lexer": "ipython3",
   "version": "3.11.4"
  }
 },
 "nbformat": 4,
 "nbformat_minor": 2
}
