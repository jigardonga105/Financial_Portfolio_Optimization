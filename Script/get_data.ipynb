{
 "cells": [
  {
   "cell_type": "code",
   "execution_count": 11,
   "metadata": {},
   "outputs": [],
   "source": [
    "# !pip install nsepy\n",
    "# !pip install yfinance"
   ]
  },
  {
   "cell_type": "code",
   "execution_count": 12,
   "metadata": {},
   "outputs": [],
   "source": [
    "import yfinance as yf\n",
    "import pandas as pd\n",
    "from data_name_lists import index, share_name, mutual_funds, fd_data"
   ]
  },
  {
   "cell_type": "code",
   "execution_count": 13,
   "metadata": {},
   "outputs": [],
   "source": [
    "def get_data(stock_name):\n",
    "    ticker_data = yf.Ticker(stock_name)\n",
    "    historical_data = ticker_data.history(period='max')\n",
    "    if len(historical_data) > 0:\n",
    "        df = pd.DataFrame(historical_data)\n",
    "        return df\n",
    "    else:\n",
    "        print(f\"No data for {stock_name}\")"
   ]
  },
  {
   "cell_type": "code",
   "execution_count": 14,
   "metadata": {},
   "outputs": [],
   "source": [
    "# get_data('NIFTY_MIDCAP_100.NS')"
   ]
  },
  {
   "cell_type": "markdown",
   "metadata": {},
   "source": [
    "# Indexs"
   ]
  },
  {
   "cell_type": "code",
   "execution_count": null,
   "metadata": {},
   "outputs": [
    {
     "name": "stdout",
     "output_type": "stream",
     "text": [
      "^NSEI\n",
      "4272\n",
      "----------------------------------------------------------------\n",
      "^NSEBANK\n",
      "3998\n",
      "----------------------------------------------------------------\n",
      "^CNXIT\n",
      "3983\n",
      "----------------------------------------------------------------\n",
      "^BSESN\n",
      "6808\n",
      "----------------------------------------------------------------\n",
      "NIFTY_MIDCAP_100.NS\n",
      "4770\n",
      "----------------------------------------------------------------\n",
      "^CNXPSUBANK\n",
      "3447\n",
      "----------------------------------------------------------------\n",
      "^CNXAUTO\n",
      "3335\n",
      "----------------------------------------------------------------\n",
      "NIFTY_FIN_SERVICE.NS\n",
      "3296\n",
      "----------------------------------------------------------------\n"
     ]
    }
   ],
   "source": [
    "for ind in index:\n",
    "    print(ind)\n",
    "    \n",
    "    df = get_data(ind)\n",
    "    print(len(df))\n",
    "\n",
    "    file_name = '../Data/Index/' + ind.replace(\"^\", \"\").replace(\".NS\", \"\") + '.csv'\n",
    "    df.to_csv(file_name) \n",
    "    \n",
    "    print(\"----------------------------------------------------------------\")"
   ]
  },
  {
   "cell_type": "code",
   "execution_count": 16,
   "metadata": {},
   "outputs": [
    {
     "data": {
      "text/html": [
       "<div>\n",
       "<style scoped>\n",
       "    .dataframe tbody tr th:only-of-type {\n",
       "        vertical-align: middle;\n",
       "    }\n",
       "\n",
       "    .dataframe tbody tr th {\n",
       "        vertical-align: top;\n",
       "    }\n",
       "\n",
       "    .dataframe thead th {\n",
       "        text-align: right;\n",
       "    }\n",
       "</style>\n",
       "<table border=\"1\" class=\"dataframe\">\n",
       "  <thead>\n",
       "    <tr style=\"text-align: right;\">\n",
       "      <th></th>\n",
       "      <th>Open</th>\n",
       "      <th>High</th>\n",
       "      <th>Low</th>\n",
       "      <th>Close</th>\n",
       "      <th>Volume</th>\n",
       "      <th>Dividends</th>\n",
       "      <th>Stock Splits</th>\n",
       "    </tr>\n",
       "    <tr>\n",
       "      <th>Date</th>\n",
       "      <th></th>\n",
       "      <th></th>\n",
       "      <th></th>\n",
       "      <th></th>\n",
       "      <th></th>\n",
       "      <th></th>\n",
       "      <th></th>\n",
       "    </tr>\n",
       "  </thead>\n",
       "  <tbody>\n",
       "    <tr>\n",
       "      <th>2025-02-11 00:00:00+05:30</th>\n",
       "      <td>23329.550781</td>\n",
       "      <td>23358.800781</td>\n",
       "      <td>22966.000000</td>\n",
       "      <td>23089.599609</td>\n",
       "      <td>844300</td>\n",
       "      <td>0.0</td>\n",
       "      <td>0.0</td>\n",
       "    </tr>\n",
       "    <tr>\n",
       "      <th>2025-02-12 00:00:00+05:30</th>\n",
       "      <td>23068.250000</td>\n",
       "      <td>23310.099609</td>\n",
       "      <td>22819.900391</td>\n",
       "      <td>23192.800781</td>\n",
       "      <td>983200</td>\n",
       "      <td>0.0</td>\n",
       "      <td>0.0</td>\n",
       "    </tr>\n",
       "    <tr>\n",
       "      <th>2025-02-13 00:00:00+05:30</th>\n",
       "      <td>23195.300781</td>\n",
       "      <td>23485.800781</td>\n",
       "      <td>23188.449219</td>\n",
       "      <td>23272.400391</td>\n",
       "      <td>1022500</td>\n",
       "      <td>0.0</td>\n",
       "      <td>0.0</td>\n",
       "    </tr>\n",
       "    <tr>\n",
       "      <th>2025-02-14 00:00:00+05:30</th>\n",
       "      <td>23321.800781</td>\n",
       "      <td>23368.199219</td>\n",
       "      <td>22998.599609</td>\n",
       "      <td>23186.900391</td>\n",
       "      <td>784000</td>\n",
       "      <td>0.0</td>\n",
       "      <td>0.0</td>\n",
       "    </tr>\n",
       "    <tr>\n",
       "      <th>2025-02-17 00:00:00+05:30</th>\n",
       "      <td>23053.599609</td>\n",
       "      <td>23293.800781</td>\n",
       "      <td>22958.550781</td>\n",
       "      <td>23271.000000</td>\n",
       "      <td>0</td>\n",
       "      <td>0.0</td>\n",
       "      <td>0.0</td>\n",
       "    </tr>\n",
       "  </tbody>\n",
       "</table>\n",
       "</div>"
      ],
      "text/plain": [
       "                                   Open          High           Low  \\\n",
       "Date                                                                  \n",
       "2025-02-11 00:00:00+05:30  23329.550781  23358.800781  22966.000000   \n",
       "2025-02-12 00:00:00+05:30  23068.250000  23310.099609  22819.900391   \n",
       "2025-02-13 00:00:00+05:30  23195.300781  23485.800781  23188.449219   \n",
       "2025-02-14 00:00:00+05:30  23321.800781  23368.199219  22998.599609   \n",
       "2025-02-17 00:00:00+05:30  23053.599609  23293.800781  22958.550781   \n",
       "\n",
       "                                  Close   Volume  Dividends  Stock Splits  \n",
       "Date                                                                       \n",
       "2025-02-11 00:00:00+05:30  23089.599609   844300        0.0           0.0  \n",
       "2025-02-12 00:00:00+05:30  23192.800781   983200        0.0           0.0  \n",
       "2025-02-13 00:00:00+05:30  23272.400391  1022500        0.0           0.0  \n",
       "2025-02-14 00:00:00+05:30  23186.900391   784000        0.0           0.0  \n",
       "2025-02-17 00:00:00+05:30  23271.000000        0        0.0           0.0  "
      ]
     },
     "execution_count": 16,
     "metadata": {},
     "output_type": "execute_result"
    }
   ],
   "source": [
    "df.tail()"
   ]
  },
  {
   "cell_type": "markdown",
   "metadata": {},
   "source": [
    "# Stocks"
   ]
  },
  {
   "cell_type": "code",
   "execution_count": 17,
   "metadata": {},
   "outputs": [],
   "source": [
    "# for share in share_name:\n",
    "#     print(share)\n",
    "    \n",
    "#     df = get_data(share)\n",
    "#     print(len(df))\n",
    "\n",
    "#     file_name = '../Data/Stocks/' + share.replace(\".NS\", \"\") + '.csv'\n",
    "#     df.to_csv(file_name)\n",
    "    \n",
    "#     print(\"----------------------------------------------------------------\")"
   ]
  },
  {
   "cell_type": "markdown",
   "metadata": {},
   "source": [
    "# Mutual Fund Data"
   ]
  },
  {
   "cell_type": "code",
   "execution_count": 18,
   "metadata": {},
   "outputs": [
    {
     "name": "stdout",
     "output_type": "stream",
     "text": [
      "0P00005WL6.BO\n",
      "1753\n",
      "----------------------------------------------------------------\n",
      "UTINEXT50.BO\n",
      "1863\n",
      "----------------------------------------------------------------\n",
      "0P0000MLHH.BO\n",
      "1753\n",
      "----------------------------------------------------------------\n",
      "0P0000KV39.BO\n",
      "1753\n",
      "----------------------------------------------------------------\n",
      "0P00009J3K.BO\n",
      "1665\n",
      "----------------------------------------------------------------\n",
      "0P0001BAB5.BO\n",
      "1753\n",
      "----------------------------------------------------------------\n",
      "0P0001EI18.BO\n",
      "1753\n",
      "----------------------------------------------------------------\n",
      "0P0001BA1R.BO\n",
      "1753\n",
      "----------------------------------------------------------------\n",
      "0P00005WEY.BO\n",
      "1753\n",
      "----------------------------------------------------------------\n",
      "0P0000XUXL.BO\n",
      "1723\n",
      "----------------------------------------------------------------\n",
      "0P0000XUYZ.BO\n",
      "1723\n",
      "----------------------------------------------------------------\n",
      "0P0000XW8D.BO\n",
      "1723\n",
      "----------------------------------------------------------------\n",
      "0P0000XVER.BO\n",
      "1760\n",
      "----------------------------------------------------------------\n",
      "0P0000XUYS.BO\n",
      "1753\n",
      "----------------------------------------------------------------\n",
      "0P0000XW7I.BO\n",
      "1753\n",
      "----------------------------------------------------------------\n",
      "0P0000U3OG.BO\n",
      "1724\n",
      "----------------------------------------------------------------\n",
      "SETFGOLD.NS\n",
      "3886\n",
      "----------------------------------------------------------------\n",
      "BSLGOLDETF.NS\n",
      "3025\n",
      "----------------------------------------------------------------\n"
     ]
    }
   ],
   "source": [
    "for mutual_fund in mutual_funds:\n",
    "    print(mutual_fund)\n",
    "\n",
    "    df = get_data(mutual_fund)\n",
    "    print(len(df))\n",
    "\n",
    "    file_name = '../Data/Mutual Funds/' + mutual_fund.replace(\".NS\", \"\").replace(\".BO\", \"\") + '.csv'\n",
    "    df.to_csv(file_name)\n",
    "\n",
    "    print(\"----------------------------------------------------------------\")"
   ]
  },
  {
   "cell_type": "markdown",
   "metadata": {},
   "source": [
    "# F.D. Returns"
   ]
  },
  {
   "cell_type": "code",
   "execution_count": 19,
   "metadata": {},
   "outputs": [
    {
     "data": {
      "text/html": [
       "<div>\n",
       "<style scoped>\n",
       "    .dataframe tbody tr th:only-of-type {\n",
       "        vertical-align: middle;\n",
       "    }\n",
       "\n",
       "    .dataframe tbody tr th {\n",
       "        vertical-align: top;\n",
       "    }\n",
       "\n",
       "    .dataframe thead th {\n",
       "        text-align: right;\n",
       "    }\n",
       "</style>\n",
       "<table border=\"1\" class=\"dataframe\">\n",
       "  <thead>\n",
       "    <tr style=\"text-align: right;\">\n",
       "      <th></th>\n",
       "      <th>Bank Name</th>\n",
       "      <th>Return Rate for Adults (%)</th>\n",
       "      <th>Return Rate for Senior Citizens (%)</th>\n",
       "    </tr>\n",
       "  </thead>\n",
       "  <tbody>\n",
       "    <tr>\n",
       "      <th>0</th>\n",
       "      <td>ICICI Bank</td>\n",
       "      <td>6.70</td>\n",
       "      <td>7.20</td>\n",
       "    </tr>\n",
       "    <tr>\n",
       "      <th>1</th>\n",
       "      <td>HDFC Bank</td>\n",
       "      <td>6.60</td>\n",
       "      <td>7.10</td>\n",
       "    </tr>\n",
       "    <tr>\n",
       "      <th>2</th>\n",
       "      <td>Axis Bank</td>\n",
       "      <td>6.70</td>\n",
       "      <td>7.20</td>\n",
       "    </tr>\n",
       "    <tr>\n",
       "      <th>3</th>\n",
       "      <td>Bank of Baroda</td>\n",
       "      <td>6.85</td>\n",
       "      <td>7.35</td>\n",
       "    </tr>\n",
       "    <tr>\n",
       "      <th>4</th>\n",
       "      <td>State Bank of India</td>\n",
       "      <td>6.80</td>\n",
       "      <td>7.30</td>\n",
       "    </tr>\n",
       "    <tr>\n",
       "      <th>5</th>\n",
       "      <td>Bank Of India</td>\n",
       "      <td>6.80</td>\n",
       "      <td>7.30</td>\n",
       "    </tr>\n",
       "    <tr>\n",
       "      <th>6</th>\n",
       "      <td>Equitas small finance bank</td>\n",
       "      <td>7.00</td>\n",
       "      <td>7.20</td>\n",
       "    </tr>\n",
       "    <tr>\n",
       "      <th>7</th>\n",
       "      <td>AU small finance bank</td>\n",
       "      <td>7.25</td>\n",
       "      <td>7.75</td>\n",
       "    </tr>\n",
       "  </tbody>\n",
       "</table>\n",
       "</div>"
      ],
      "text/plain": [
       "                    Bank Name  Return Rate for Adults (%)  \\\n",
       "0                  ICICI Bank                        6.70   \n",
       "1                   HDFC Bank                        6.60   \n",
       "2                   Axis Bank                        6.70   \n",
       "3              Bank of Baroda                        6.85   \n",
       "4         State Bank of India                        6.80   \n",
       "5               Bank Of India                        6.80   \n",
       "6  Equitas small finance bank                        7.00   \n",
       "7       AU small finance bank                        7.25   \n",
       "\n",
       "   Return Rate for Senior Citizens (%)  \n",
       "0                                 7.20  \n",
       "1                                 7.10  \n",
       "2                                 7.20  \n",
       "3                                 7.35  \n",
       "4                                 7.30  \n",
       "5                                 7.30  \n",
       "6                                 7.20  \n",
       "7                                 7.75  "
      ]
     },
     "execution_count": 19,
     "metadata": {},
     "output_type": "execute_result"
    }
   ],
   "source": [
    "df = pd.DataFrame(fd_data)\n",
    "df"
   ]
  },
  {
   "cell_type": "code",
   "execution_count": 20,
   "metadata": {},
   "outputs": [],
   "source": [
    "df.to_csv('../Data/FD_Returns.csv', index=False)"
   ]
  }
 ],
 "metadata": {
  "kernelspec": {
   "display_name": "Python 3",
   "language": "python",
   "name": "python3"
  },
  "language_info": {
   "codemirror_mode": {
    "name": "ipython",
    "version": 3
   },
   "file_extension": ".py",
   "mimetype": "text/x-python",
   "name": "python",
   "nbconvert_exporter": "python",
   "pygments_lexer": "ipython3",
   "version": "3.8.16"
  }
 },
 "nbformat": 4,
 "nbformat_minor": 4
}
