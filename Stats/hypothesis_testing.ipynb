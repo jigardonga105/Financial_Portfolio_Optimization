{
 "cells": [
  {
   "cell_type": "code",
   "execution_count": 119,
   "metadata": {},
   "outputs": [],
   "source": [
    "import numpy as np\n",
    "import pandas as pd\n",
    "from scipy.stats import ttest_ind, f, f_oneway, chi2_contingency, ttest_1samp"
   ]
  },
  {
   "cell_type": "code",
   "execution_count": 120,
   "metadata": {},
   "outputs": [],
   "source": [
    "def get_data_from_sheets(excel_file):\n",
    "    return {sheet_name: excel_file.parse(sheet_name) \n",
    "          for sheet_name in excel_file.sheet_names}"
   ]
  },
  {
   "cell_type": "code",
   "execution_count": 121,
   "metadata": {},
   "outputs": [],
   "source": [
    "index_file_path = '../Data/Index_Data.xlsx'\n",
    "\n",
    "index_data = pd.ExcelFile(index_file_path)\n",
    "\n",
    "index_sheets = get_data_from_sheets(index_data)\n",
    "\n",
    "\n",
    "\n",
    "MF_file_path = '../Data/Mutual_Funds_Data.xlsx'\n",
    "\n",
    "MF_data = pd.ExcelFile(MF_file_path)\n",
    "\n",
    "MF_sheets = get_data_from_sheets(MF_data)\n",
    "\n",
    "\n",
    "\n",
    "GB_file_path = '../Data/Gold_Bond_Data.xlsx'\n",
    "\n",
    "GB_data = pd.ExcelFile(GB_file_path)\n",
    "\n",
    "GB_sheets = get_data_from_sheets(GB_data)"
   ]
  },
  {
   "cell_type": "code",
   "execution_count": 122,
   "metadata": {},
   "outputs": [
    {
     "data": {
      "text/plain": [
       "4263"
      ]
     },
     "execution_count": 122,
     "metadata": {},
     "output_type": "execute_result"
    }
   ],
   "source": [
    "len(index_sheets['NSEI'])"
   ]
  },
  {
   "cell_type": "code",
   "execution_count": 123,
   "metadata": {},
   "outputs": [
    {
     "data": {
      "text/plain": [
       "1"
      ]
     },
     "execution_count": 123,
     "metadata": {},
     "output_type": "execute_result"
    }
   ],
   "source": [
    "index_sheets['NSEI'].isnull().sum().sum()"
   ]
  },
  {
   "cell_type": "markdown",
   "metadata": {},
   "source": [
    "## 1. Two Sample T-test\n",
    "\n",
    "### Null Hypothesis: The mean closing price of `NSEI` is equal to `BSESN`.\n",
    "### Alternative Hypothesis: The mean closing price of `NSEI` is not equal to `BSESN`."
   ]
  },
  {
   "cell_type": "code",
   "execution_count": 124,
   "metadata": {},
   "outputs": [],
   "source": [
    "NSEI = index_sheets['NSEI']\n",
    "BSESN = index_sheets['BSESN']"
   ]
  },
  {
   "cell_type": "code",
   "execution_count": 125,
   "metadata": {},
   "outputs": [
    {
     "name": "stdout",
     "output_type": "stream",
     "text": [
      "10189.347246485475\n",
      "23414.174334683583\n"
     ]
    }
   ],
   "source": [
    "print(NSEI['Close'].mean())\n",
    "print(BSESN['Close'].mean())"
   ]
  },
  {
   "cell_type": "code",
   "execution_count": 126,
   "metadata": {},
   "outputs": [
    {
     "name": "stdout",
     "output_type": "stream",
     "text": [
      "T-Statistic: -41.71253300179125, p-value: 0.0\n"
     ]
    }
   ],
   "source": [
    "t_stat, test1_p_val = ttest_ind(NSEI['Close'], BSESN['Close'])\n",
    "print(f\"T-Statistic: {t_stat}, p-value: {test1_p_val}\")"
   ]
  },
  {
   "cell_type": "code",
   "execution_count": 127,
   "metadata": {},
   "outputs": [],
   "source": [
    "def test_hypothesis(p_val):\n",
    "    if p_val < 0.05:\n",
    "        return \"Reject the null hypothesis.\"\n",
    "    else:\n",
    "        return \"Fail to reject the null hypothesis.\""
   ]
  },
  {
   "cell_type": "code",
   "execution_count": 128,
   "metadata": {},
   "outputs": [
    {
     "data": {
      "text/plain": [
       "'Reject the null hypothesis.'"
      ]
     },
     "execution_count": 128,
     "metadata": {},
     "output_type": "execute_result"
    }
   ],
   "source": [
    "test_hypothesis(test1_p_val)"
   ]
  },
  {
   "cell_type": "markdown",
   "metadata": {},
   "source": [
    "#### Here, we have rejected the null hypothesis.\n",
    "#### The mean closing price of `NSEI` is not equal to `BSESN`."
   ]
  },
  {
   "cell_type": "markdown",
   "metadata": {},
   "source": [
    "## 2. F-Test\n",
    "\n",
    "### Null Hypothesis: The variances of returns of `CNXIT` and `CNXAUTO` are equal.\n",
    "### Alternative Hypothesis: The variances of returns of `CNXIT` and `CNXAUTO` are not equal."
   ]
  },
  {
   "cell_type": "code",
   "execution_count": 129,
   "metadata": {},
   "outputs": [],
   "source": [
    "CNXIT = index_sheets['CNXIT']\n",
    "CNXAUTO = index_sheets['CNXAUTO']"
   ]
  },
  {
   "cell_type": "code",
   "execution_count": 130,
   "metadata": {},
   "outputs": [
    {
     "data": {
      "text/plain": [
       "Index(['Date', 'Open', 'High', 'Low', 'Close', 'Volume', 'Dividends',\n",
       "       'Stock_Splits', 'Percent_Change_In_Price'],\n",
       "      dtype='object')"
      ]
     },
     "execution_count": 130,
     "metadata": {},
     "output_type": "execute_result"
    }
   ],
   "source": [
    "CNXIT.columns"
   ]
  },
  {
   "cell_type": "code",
   "execution_count": 131,
   "metadata": {},
   "outputs": [
    {
     "name": "stdout",
     "output_type": "stream",
     "text": [
      "Degree of freedom 1: 3973\n",
      "Degree of freedom 2: 3325\n",
      "F-statistic: 94.5316845231711\n",
      "p_left: 0.9999999999999999 p_right: 0.0\n",
      "p-value: 0.0\n"
     ]
    }
   ],
   "source": [
    "CNXIT_variance = np.var(CNXIT['Percent_Change_In_Price'], ddof=1)\n",
    "CNXAUTO_variance = np.var(CNXAUTO['Percent_Change_In_Price'], ddof=1)\n",
    "\n",
    "f_value = CNXIT_variance / CNXAUTO_variance\n",
    "\n",
    "df1 = len(CNXIT['Percent_Change_In_Price']) - 1\n",
    "df2 = len(CNXAUTO['Percent_Change_In_Price']) - 1\n",
    "\n",
    "p_left = f.cdf(f_value, df1, df2) # cumulative distribution function (CDF)\n",
    "p_right = f.sf(f_value, df1, df2) # Survival function = 1 - cdf\n",
    "test2_p_val = 2 * min(p_left, p_right)\n",
    "\n",
    "print('Degree of freedom 1:',df1)\n",
    "print('Degree of freedom 2:',df2)\n",
    "print(\"F-statistic:\", f_value)\n",
    "print(\"p_left:\", p_left, \"p_right:\", p_right)\n",
    "print(\"p-value:\", test2_p_val)"
   ]
  },
  {
   "cell_type": "code",
   "execution_count": 132,
   "metadata": {},
   "outputs": [
    {
     "data": {
      "text/plain": [
       "'Reject the null hypothesis.'"
      ]
     },
     "execution_count": 132,
     "metadata": {},
     "output_type": "execute_result"
    }
   ],
   "source": [
    "test_hypothesis(test2_p_val)"
   ]
  },
  {
   "cell_type": "markdown",
   "metadata": {},
   "source": [
    "#### Here, reject the null hypothesis.\n",
    "\n",
    "#### It means that The variances of returns of `CNXIT` and `CNXAUTO` are not equal"
   ]
  },
  {
   "cell_type": "markdown",
   "metadata": {},
   "source": [
    "## 3. One-way ANOVA\n",
    "\n",
    "### Null Hypothesis: The mean returns of all mutual funds are the same.\n",
    "### Alternative Hypothesis: At least one mutual fund has a different mean return."
   ]
  },
  {
   "cell_type": "code",
   "execution_count": 148,
   "metadata": {},
   "outputs": [
    {
     "data": {
      "text/plain": [
       "[0.0,\n",
       " 0.0,\n",
       " 0.0,\n",
       " 0.0,\n",
       " 0.0,\n",
       " 0.0,\n",
       " 0.0,\n",
       " 0.0,\n",
       " 0.0,\n",
       " 0.0,\n",
       " 0.0,\n",
       " 0.0,\n",
       " 0.0,\n",
       " 0.0,\n",
       " 0.0,\n",
       " 0.0,\n",
       " 0.0003,\n",
       " 0.0]"
      ]
     },
     "execution_count": 148,
     "metadata": {},
     "output_type": "execute_result"
    }
   ],
   "source": [
    "MF_mean_return = [round((df['Percent_Change_In_Price'].dropna().mean() / 100), 4) for df in MF_sheets.values()]\n",
    "MF_mean_return"
   ]
  },
  {
   "cell_type": "code",
   "execution_count": 134,
   "metadata": {},
   "outputs": [
    {
     "name": "stdout",
     "output_type": "stream",
     "text": [
      "F-Statistic: 0.44315690521568885, p-value: 0.9755151375252552\n"
     ]
    }
   ],
   "source": [
    "f_stat, test3_p_val = f_oneway(\n",
    "    *[df['Percent_Change_In_Price'].dropna() for df in MF_sheets.values()]\n",
    ")\n",
    "print(f\"F-Statistic: {f_stat}, p-value: {test3_p_val}\")"
   ]
  },
  {
   "cell_type": "code",
   "execution_count": 135,
   "metadata": {},
   "outputs": [
    {
     "data": {
      "text/plain": [
       "'Fail to reject the null hypothesis.'"
      ]
     },
     "execution_count": 135,
     "metadata": {},
     "output_type": "execute_result"
    }
   ],
   "source": [
    "test_hypothesis(test3_p_val)"
   ]
  },
  {
   "cell_type": "markdown",
   "metadata": {},
   "source": [
    "#### Here. we fail to reject the null hypothesis.\n",
    "\n",
    "#### Because of not having sufficient evidences, we are not able to prove that At least one mutual fund has a different mean return."
   ]
  },
  {
   "cell_type": "markdown",
   "metadata": {},
   "source": [
    "## 4. Chi-Square Test\n",
    "\n",
    "### Null Hypothesis: Gold bond returns are independent of market conditions (e.g., bearish or bullish).\n",
    "### Alternative Hypothesis: Gold bond returns are not independent of market conditions."
   ]
  },
  {
   "cell_type": "code",
   "execution_count": 136,
   "metadata": {},
   "outputs": [],
   "source": [
    "GoldBond = GB_sheets['Gold Bond']"
   ]
  },
  {
   "cell_type": "code",
   "execution_count": 137,
   "metadata": {},
   "outputs": [],
   "source": [
    "GoldBond['Gold_Return_Category'] = GoldBond['Percent_Change_In_Price'].apply(\n",
    "    lambda x: 'Positive' if x > 0 else 'Negative'\n",
    ")\n",
    "\n",
    "NSEI['Market_Condition'] = NSEI['Percent_Change_In_Price'].apply(\n",
    "    lambda x: 'Bullish' if x > 0.005 else ('Bearish' if x < -0.005 else 'Neutral')\n",
    ")"
   ]
  },
  {
   "cell_type": "code",
   "execution_count": 138,
   "metadata": {},
   "outputs": [
    {
     "data": {
      "text/html": [
       "<div>\n",
       "<style scoped>\n",
       "    .dataframe tbody tr th:only-of-type {\n",
       "        vertical-align: middle;\n",
       "    }\n",
       "\n",
       "    .dataframe tbody tr th {\n",
       "        vertical-align: top;\n",
       "    }\n",
       "\n",
       "    .dataframe thead th {\n",
       "        text-align: right;\n",
       "    }\n",
       "</style>\n",
       "<table border=\"1\" class=\"dataframe\">\n",
       "  <thead>\n",
       "    <tr style=\"text-align: right;\">\n",
       "      <th></th>\n",
       "      <th>Date</th>\n",
       "      <th>Series</th>\n",
       "      <th>Open</th>\n",
       "      <th>High</th>\n",
       "      <th>Low</th>\n",
       "      <th>Prev_Close</th>\n",
       "      <th>Ltp</th>\n",
       "      <th>Close</th>\n",
       "      <th>Vwap</th>\n",
       "      <th>52W_H</th>\n",
       "      <th>52W_L</th>\n",
       "      <th>Volume</th>\n",
       "      <th>Value</th>\n",
       "      <th>No_Of_Trades</th>\n",
       "      <th>Percent_Change_In_Price</th>\n",
       "      <th>Gold_Return_Category</th>\n",
       "    </tr>\n",
       "  </thead>\n",
       "  <tbody>\n",
       "    <tr>\n",
       "      <th>0</th>\n",
       "      <td>2019-12-30</td>\n",
       "      <td>GB</td>\n",
       "      <td>3700.00</td>\n",
       "      <td>3700.00</td>\n",
       "      <td>3700.00</td>\n",
       "      <td>3599.50</td>\n",
       "      <td>3700.00</td>\n",
       "      <td>3700.00</td>\n",
       "      <td>3700.00</td>\n",
       "      <td>3840.0</td>\n",
       "      <td>2725.00</td>\n",
       "      <td>6</td>\n",
       "      <td>22200.00</td>\n",
       "      <td>1</td>\n",
       "      <td>NaN</td>\n",
       "      <td>Negative</td>\n",
       "    </tr>\n",
       "    <tr>\n",
       "      <th>1</th>\n",
       "      <td>2019-12-23</td>\n",
       "      <td>GB</td>\n",
       "      <td>3750.00</td>\n",
       "      <td>3750.00</td>\n",
       "      <td>3599.00</td>\n",
       "      <td>3589.00</td>\n",
       "      <td>3599.00</td>\n",
       "      <td>3599.50</td>\n",
       "      <td>3616.33</td>\n",
       "      <td>3840.0</td>\n",
       "      <td>2655.29</td>\n",
       "      <td>45</td>\n",
       "      <td>162735.00</td>\n",
       "      <td>5</td>\n",
       "      <td>-0.027162</td>\n",
       "      <td>Negative</td>\n",
       "    </tr>\n",
       "    <tr>\n",
       "      <th>2</th>\n",
       "      <td>2019-12-17</td>\n",
       "      <td>GB</td>\n",
       "      <td>3590.00</td>\n",
       "      <td>3590.00</td>\n",
       "      <td>3589.00</td>\n",
       "      <td>3580.05</td>\n",
       "      <td>3589.00</td>\n",
       "      <td>3589.00</td>\n",
       "      <td>3589.40</td>\n",
       "      <td>3840.0</td>\n",
       "      <td>2655.29</td>\n",
       "      <td>25</td>\n",
       "      <td>89735.00</td>\n",
       "      <td>3</td>\n",
       "      <td>-0.002917</td>\n",
       "      <td>Negative</td>\n",
       "    </tr>\n",
       "    <tr>\n",
       "      <th>3</th>\n",
       "      <td>2019-12-16</td>\n",
       "      <td>GB</td>\n",
       "      <td>3580.05</td>\n",
       "      <td>3580.05</td>\n",
       "      <td>3580.05</td>\n",
       "      <td>3580.00</td>\n",
       "      <td>3580.05</td>\n",
       "      <td>3580.05</td>\n",
       "      <td>3580.05</td>\n",
       "      <td>3840.0</td>\n",
       "      <td>2655.29</td>\n",
       "      <td>1</td>\n",
       "      <td>3580.05</td>\n",
       "      <td>1</td>\n",
       "      <td>-0.002494</td>\n",
       "      <td>Negative</td>\n",
       "    </tr>\n",
       "    <tr>\n",
       "      <th>4</th>\n",
       "      <td>2019-12-12</td>\n",
       "      <td>GB</td>\n",
       "      <td>3562.00</td>\n",
       "      <td>3580.00</td>\n",
       "      <td>3562.00</td>\n",
       "      <td>3585.00</td>\n",
       "      <td>3580.00</td>\n",
       "      <td>3580.00</td>\n",
       "      <td>3565.00</td>\n",
       "      <td>3840.0</td>\n",
       "      <td>2655.29</td>\n",
       "      <td>6</td>\n",
       "      <td>21390.00</td>\n",
       "      <td>2</td>\n",
       "      <td>-0.000014</td>\n",
       "      <td>Negative</td>\n",
       "    </tr>\n",
       "  </tbody>\n",
       "</table>\n",
       "</div>"
      ],
      "text/plain": [
       "        Date Series     Open     High      Low  Prev_Close      Ltp    Close  \\\n",
       "0 2019-12-30     GB  3700.00  3700.00  3700.00     3599.50  3700.00  3700.00   \n",
       "1 2019-12-23     GB  3750.00  3750.00  3599.00     3589.00  3599.00  3599.50   \n",
       "2 2019-12-17     GB  3590.00  3590.00  3589.00     3580.05  3589.00  3589.00   \n",
       "3 2019-12-16     GB  3580.05  3580.05  3580.05     3580.00  3580.05  3580.05   \n",
       "4 2019-12-12     GB  3562.00  3580.00  3562.00     3585.00  3580.00  3580.00   \n",
       "\n",
       "      Vwap   52W_H    52W_L  Volume      Value  No_Of_Trades  \\\n",
       "0  3700.00  3840.0  2725.00       6   22200.00             1   \n",
       "1  3616.33  3840.0  2655.29      45  162735.00             5   \n",
       "2  3589.40  3840.0  2655.29      25   89735.00             3   \n",
       "3  3580.05  3840.0  2655.29       1    3580.05             1   \n",
       "4  3565.00  3840.0  2655.29       6   21390.00             2   \n",
       "\n",
       "   Percent_Change_In_Price Gold_Return_Category  \n",
       "0                      NaN             Negative  \n",
       "1                -0.027162             Negative  \n",
       "2                -0.002917             Negative  \n",
       "3                -0.002494             Negative  \n",
       "4                -0.000014             Negative  "
      ]
     },
     "execution_count": 138,
     "metadata": {},
     "output_type": "execute_result"
    }
   ],
   "source": [
    "GoldBond.head()"
   ]
  },
  {
   "cell_type": "code",
   "execution_count": 139,
   "metadata": {},
   "outputs": [
    {
     "data": {
      "text/html": [
       "<div>\n",
       "<style scoped>\n",
       "    .dataframe tbody tr th:only-of-type {\n",
       "        vertical-align: middle;\n",
       "    }\n",
       "\n",
       "    .dataframe tbody tr th {\n",
       "        vertical-align: top;\n",
       "    }\n",
       "\n",
       "    .dataframe thead th {\n",
       "        text-align: right;\n",
       "    }\n",
       "</style>\n",
       "<table border=\"1\" class=\"dataframe\">\n",
       "  <thead>\n",
       "    <tr style=\"text-align: right;\">\n",
       "      <th></th>\n",
       "      <th>Date</th>\n",
       "      <th>Series</th>\n",
       "      <th>Open</th>\n",
       "      <th>High</th>\n",
       "      <th>Low</th>\n",
       "      <th>Prev_Close</th>\n",
       "      <th>Ltp</th>\n",
       "      <th>Close</th>\n",
       "      <th>Vwap</th>\n",
       "      <th>52W_H</th>\n",
       "      <th>52W_L</th>\n",
       "      <th>Volume</th>\n",
       "      <th>Value</th>\n",
       "      <th>No_Of_Trades</th>\n",
       "      <th>Percent_Change_In_Price</th>\n",
       "      <th>Gold_Return_Category</th>\n",
       "    </tr>\n",
       "  </thead>\n",
       "  <tbody>\n",
       "    <tr>\n",
       "      <th>678</th>\n",
       "      <td>2024-01-15</td>\n",
       "      <td>GB</td>\n",
       "      <td>6240.01</td>\n",
       "      <td>6400.0</td>\n",
       "      <td>6240.01</td>\n",
       "      <td>6220.0</td>\n",
       "      <td>6400.0</td>\n",
       "      <td>6400.0</td>\n",
       "      <td>6293.34</td>\n",
       "      <td>6400.0</td>\n",
       "      <td>5360.0</td>\n",
       "      <td>6</td>\n",
       "      <td>37760.04</td>\n",
       "      <td>2</td>\n",
       "      <td>0.024000</td>\n",
       "      <td>Positive</td>\n",
       "    </tr>\n",
       "    <tr>\n",
       "      <th>679</th>\n",
       "      <td>2024-01-11</td>\n",
       "      <td>GB</td>\n",
       "      <td>6220.00</td>\n",
       "      <td>6220.0</td>\n",
       "      <td>6220.00</td>\n",
       "      <td>6275.0</td>\n",
       "      <td>6220.0</td>\n",
       "      <td>6220.0</td>\n",
       "      <td>6220.00</td>\n",
       "      <td>6340.0</td>\n",
       "      <td>5360.0</td>\n",
       "      <td>5</td>\n",
       "      <td>31100.00</td>\n",
       "      <td>1</td>\n",
       "      <td>-0.028125</td>\n",
       "      <td>Negative</td>\n",
       "    </tr>\n",
       "    <tr>\n",
       "      <th>680</th>\n",
       "      <td>2024-01-09</td>\n",
       "      <td>GB</td>\n",
       "      <td>6275.00</td>\n",
       "      <td>6275.0</td>\n",
       "      <td>6275.00</td>\n",
       "      <td>6275.0</td>\n",
       "      <td>6275.0</td>\n",
       "      <td>6275.0</td>\n",
       "      <td>6275.00</td>\n",
       "      <td>6340.0</td>\n",
       "      <td>5360.0</td>\n",
       "      <td>20</td>\n",
       "      <td>125500.00</td>\n",
       "      <td>2</td>\n",
       "      <td>0.008842</td>\n",
       "      <td>Positive</td>\n",
       "    </tr>\n",
       "    <tr>\n",
       "      <th>681</th>\n",
       "      <td>2024-01-08</td>\n",
       "      <td>GB</td>\n",
       "      <td>6275.00</td>\n",
       "      <td>6275.0</td>\n",
       "      <td>6275.00</td>\n",
       "      <td>6340.0</td>\n",
       "      <td>6275.0</td>\n",
       "      <td>6275.0</td>\n",
       "      <td>6275.00</td>\n",
       "      <td>6340.0</td>\n",
       "      <td>5360.0</td>\n",
       "      <td>4</td>\n",
       "      <td>25100.00</td>\n",
       "      <td>2</td>\n",
       "      <td>0.000000</td>\n",
       "      <td>Negative</td>\n",
       "    </tr>\n",
       "    <tr>\n",
       "      <th>682</th>\n",
       "      <td>2024-01-05</td>\n",
       "      <td>GB</td>\n",
       "      <td>6340.00</td>\n",
       "      <td>6340.0</td>\n",
       "      <td>6340.00</td>\n",
       "      <td>6340.0</td>\n",
       "      <td>6340.0</td>\n",
       "      <td>6340.0</td>\n",
       "      <td>6340.00</td>\n",
       "      <td>6340.0</td>\n",
       "      <td>5300.0</td>\n",
       "      <td>9</td>\n",
       "      <td>57060.00</td>\n",
       "      <td>2</td>\n",
       "      <td>0.010359</td>\n",
       "      <td>Positive</td>\n",
       "    </tr>\n",
       "  </tbody>\n",
       "</table>\n",
       "</div>"
      ],
      "text/plain": [
       "          Date Series     Open    High      Low  Prev_Close     Ltp   Close  \\\n",
       "678 2024-01-15     GB  6240.01  6400.0  6240.01      6220.0  6400.0  6400.0   \n",
       "679 2024-01-11     GB  6220.00  6220.0  6220.00      6275.0  6220.0  6220.0   \n",
       "680 2024-01-09     GB  6275.00  6275.0  6275.00      6275.0  6275.0  6275.0   \n",
       "681 2024-01-08     GB  6275.00  6275.0  6275.00      6340.0  6275.0  6275.0   \n",
       "682 2024-01-05     GB  6340.00  6340.0  6340.00      6340.0  6340.0  6340.0   \n",
       "\n",
       "        Vwap   52W_H   52W_L  Volume      Value  No_Of_Trades  \\\n",
       "678  6293.34  6400.0  5360.0       6   37760.04             2   \n",
       "679  6220.00  6340.0  5360.0       5   31100.00             1   \n",
       "680  6275.00  6340.0  5360.0      20  125500.00             2   \n",
       "681  6275.00  6340.0  5360.0       4   25100.00             2   \n",
       "682  6340.00  6340.0  5300.0       9   57060.00             2   \n",
       "\n",
       "     Percent_Change_In_Price Gold_Return_Category  \n",
       "678                 0.024000             Positive  \n",
       "679                -0.028125             Negative  \n",
       "680                 0.008842             Positive  \n",
       "681                 0.000000             Negative  \n",
       "682                 0.010359             Positive  "
      ]
     },
     "execution_count": 139,
     "metadata": {},
     "output_type": "execute_result"
    }
   ],
   "source": [
    "GoldBond.tail()"
   ]
  },
  {
   "cell_type": "code",
   "execution_count": 140,
   "metadata": {},
   "outputs": [
    {
     "data": {
      "text/html": [
       "<div>\n",
       "<style scoped>\n",
       "    .dataframe tbody tr th:only-of-type {\n",
       "        vertical-align: middle;\n",
       "    }\n",
       "\n",
       "    .dataframe tbody tr th {\n",
       "        vertical-align: top;\n",
       "    }\n",
       "\n",
       "    .dataframe thead th {\n",
       "        text-align: right;\n",
       "    }\n",
       "</style>\n",
       "<table border=\"1\" class=\"dataframe\">\n",
       "  <thead>\n",
       "    <tr style=\"text-align: right;\">\n",
       "      <th></th>\n",
       "      <th>Date</th>\n",
       "      <th>Open</th>\n",
       "      <th>High</th>\n",
       "      <th>Low</th>\n",
       "      <th>Close</th>\n",
       "      <th>Volume</th>\n",
       "      <th>Dividends</th>\n",
       "      <th>Stock_Splits</th>\n",
       "      <th>Percent_Change_In_Price</th>\n",
       "      <th>Market_Condition</th>\n",
       "    </tr>\n",
       "  </thead>\n",
       "  <tbody>\n",
       "    <tr>\n",
       "      <th>4258</th>\n",
       "      <td>2025-01-29 00:00:00+05:30</td>\n",
       "      <td>23026.750000</td>\n",
       "      <td>23183.349609</td>\n",
       "      <td>22976.500000</td>\n",
       "      <td>23163.099609</td>\n",
       "      <td>226300</td>\n",
       "      <td>0</td>\n",
       "      <td>0</td>\n",
       "      <td>0.008967</td>\n",
       "      <td>Bullish</td>\n",
       "    </tr>\n",
       "    <tr>\n",
       "      <th>4259</th>\n",
       "      <td>2025-01-30 00:00:00+05:30</td>\n",
       "      <td>23169.500000</td>\n",
       "      <td>23322.050781</td>\n",
       "      <td>23139.199219</td>\n",
       "      <td>23249.500000</td>\n",
       "      <td>361900</td>\n",
       "      <td>0</td>\n",
       "      <td>0</td>\n",
       "      <td>0.003730</td>\n",
       "      <td>Neutral</td>\n",
       "    </tr>\n",
       "    <tr>\n",
       "      <th>4260</th>\n",
       "      <td>2025-01-31 00:00:00+05:30</td>\n",
       "      <td>23296.750000</td>\n",
       "      <td>23546.800781</td>\n",
       "      <td>23277.400391</td>\n",
       "      <td>23508.400391</td>\n",
       "      <td>304900</td>\n",
       "      <td>0</td>\n",
       "      <td>0</td>\n",
       "      <td>0.011136</td>\n",
       "      <td>Bullish</td>\n",
       "    </tr>\n",
       "    <tr>\n",
       "      <th>4261</th>\n",
       "      <td>2025-02-03 00:00:00+05:30</td>\n",
       "      <td>23319.349609</td>\n",
       "      <td>23381.599609</td>\n",
       "      <td>23222.000000</td>\n",
       "      <td>23361.050781</td>\n",
       "      <td>329700</td>\n",
       "      <td>0</td>\n",
       "      <td>0</td>\n",
       "      <td>-0.006268</td>\n",
       "      <td>Bearish</td>\n",
       "    </tr>\n",
       "    <tr>\n",
       "      <th>4262</th>\n",
       "      <td>2025-02-04 00:00:00+05:30</td>\n",
       "      <td>23509.900391</td>\n",
       "      <td>23582.000000</td>\n",
       "      <td>23479.449219</td>\n",
       "      <td>23567.550781</td>\n",
       "      <td>0</td>\n",
       "      <td>0</td>\n",
       "      <td>0</td>\n",
       "      <td>0.008839</td>\n",
       "      <td>Bullish</td>\n",
       "    </tr>\n",
       "  </tbody>\n",
       "</table>\n",
       "</div>"
      ],
      "text/plain": [
       "                           Date          Open          High           Low  \\\n",
       "4258  2025-01-29 00:00:00+05:30  23026.750000  23183.349609  22976.500000   \n",
       "4259  2025-01-30 00:00:00+05:30  23169.500000  23322.050781  23139.199219   \n",
       "4260  2025-01-31 00:00:00+05:30  23296.750000  23546.800781  23277.400391   \n",
       "4261  2025-02-03 00:00:00+05:30  23319.349609  23381.599609  23222.000000   \n",
       "4262  2025-02-04 00:00:00+05:30  23509.900391  23582.000000  23479.449219   \n",
       "\n",
       "             Close  Volume  Dividends  Stock_Splits  Percent_Change_In_Price  \\\n",
       "4258  23163.099609  226300          0             0                 0.008967   \n",
       "4259  23249.500000  361900          0             0                 0.003730   \n",
       "4260  23508.400391  304900          0             0                 0.011136   \n",
       "4261  23361.050781  329700          0             0                -0.006268   \n",
       "4262  23567.550781       0          0             0                 0.008839   \n",
       "\n",
       "     Market_Condition  \n",
       "4258          Bullish  \n",
       "4259          Neutral  \n",
       "4260          Bullish  \n",
       "4261          Bearish  \n",
       "4262          Bullish  "
      ]
     },
     "execution_count": 140,
     "metadata": {},
     "output_type": "execute_result"
    }
   ],
   "source": [
    "NSEI.tail()"
   ]
  },
  {
   "cell_type": "code",
   "execution_count": 141,
   "metadata": {},
   "outputs": [],
   "source": [
    "NSEI['Date'] = pd.to_datetime(NSEI['Date'])\n",
    "NSEI['Date'] = NSEI['Date'].dt.tz_localize(None)"
   ]
  },
  {
   "cell_type": "code",
   "execution_count": 142,
   "metadata": {},
   "outputs": [
    {
     "name": "stdout",
     "output_type": "stream",
     "text": [
      "Market_Condition      Bearish  Bullish  Neutral\n",
      "Gold_Return_Category                           \n",
      "Negative                  101      139      195\n",
      "Positive                   50       77      117\n"
     ]
    }
   ],
   "source": [
    "merged_data = pd.merge(GoldBond[['Date', 'Gold_Return_Category']],\n",
    "                       NSEI[['Date', 'Market_Condition']],\n",
    "                       on='Date')\n",
    "\n",
    "contingency_table = pd.crosstab(merged_data['Gold_Return_Category'], \n",
    "                                merged_data['Market_Condition'])\n",
    "print(contingency_table)"
   ]
  },
  {
   "cell_type": "code",
   "execution_count": 143,
   "metadata": {},
   "outputs": [
    {
     "name": "stdout",
     "output_type": "stream",
     "text": [
      "Chi-Square Statistic: 0.8621403265313069, p-value: 0.6498133161509081\n"
     ]
    }
   ],
   "source": [
    "chi2, test4_p_val, dof, expected = chi2_contingency(contingency_table)\n",
    "print(f\"Chi-Square Statistic: {chi2}, p-value: {test4_p_val}\")"
   ]
  },
  {
   "cell_type": "code",
   "execution_count": 144,
   "metadata": {},
   "outputs": [
    {
     "data": {
      "text/plain": [
       "'Fail to reject the null hypothesis.'"
      ]
     },
     "execution_count": 144,
     "metadata": {},
     "output_type": "execute_result"
    }
   ],
   "source": [
    "test_hypothesis(test4_p_val)"
   ]
  },
  {
   "cell_type": "markdown",
   "metadata": {},
   "source": [
    "#### From p value of the test, we get to know that we fail to reject the null hypothesis.\n",
    "\n",
    "#### We don't have sufficient evidences to justify that Gold bond returns are not independent of market conditions."
   ]
  }
 ],
 "metadata": {
  "kernelspec": {
   "display_name": "Python 3",
   "language": "python",
   "name": "python3"
  },
  "language_info": {
   "codemirror_mode": {
    "name": "ipython",
    "version": 3
   },
   "file_extension": ".py",
   "mimetype": "text/x-python",
   "name": "python",
   "nbconvert_exporter": "python",
   "pygments_lexer": "ipython3",
   "version": "3.8.16"
  }
 },
 "nbformat": 4,
 "nbformat_minor": 2
}
